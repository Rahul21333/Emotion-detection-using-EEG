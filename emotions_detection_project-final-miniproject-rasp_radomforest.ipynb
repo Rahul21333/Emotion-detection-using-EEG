{
 "cells": [
  {
   "cell_type": "code",
   "execution_count": null,
   "id": "667b485b",
   "metadata": {},
   "outputs": [],
   "source": [
    "import numpy as np\n",
    "import pandas as pd\n",
    "\n",
    "import matplotlib.pyplot as plt\n",
    "#import seaborn as sns\n",
    "\n",
    "from sklearn import datasets\n",
    "from sklearn import svm\n",
    "from sklearn.model_selection import train_test_split\n",
    "\n",
    "\n",
    "from sklearn.metrics import confusion_matrix, classification_report"
   ]
  },
  {
   "cell_type": "code",
   "execution_count": null,
   "id": "61aaebd7",
   "metadata": {},
   "outputs": [],
   "source": [
    "#pd.set_option('display.max_columns', None)\n",
    "#pd.set_option('display.max_rows', None)"
   ]
  },
  {
   "cell_type": "code",
   "execution_count": null,
   "id": "cd81b1ce",
   "metadata": {},
   "outputs": [],
   "source": [
    "\n",
    "data = pd.read_csv('emotions_2.csv')\n",
    "data"
   ]
  },
  {
   "cell_type": "code",
   "execution_count": null,
   "id": "907b9ee6",
   "metadata": {},
   "outputs": [],
   "source": [
    "\n",
    "sample = data.loc[0, 'fft_0_b':'fft_749_b']\n",
    "\n",
    "plt.figure(figsize=(20, 10))\n",
    "plt.plot(range(len(sample)), sample)\n",
    "plt.title(\"Features fft_0_b through fft_749_b\")\n",
    "plt.show()"
   ]
  },
  {
   "cell_type": "code",
   "execution_count": null,
   "id": "42eca417",
   "metadata": {
    "scrolled": true
   },
   "outputs": [],
   "source": [
    "df=data.replace(['NEGATIVE','POSITIVE','NEUTRAL'],[-1,1,0])\n",
    "df"
   ]
  },
  {
   "cell_type": "code",
   "execution_count": null,
   "id": "22c5e73f",
   "metadata": {},
   "outputs": [],
   "source": [
    "X=df[['mean_1_a','stddev_1_a','covmat_1_a','eigen_1_a','logm_1_a','entropy1_a','correlate_1_a']]\n",
    "#X.head()"
   ]
  },
  {
   "cell_type": "code",
   "execution_count": null,
   "id": "abc2469f",
   "metadata": {
    "scrolled": true
   },
   "outputs": [],
   "source": [
    "y=df['label']\n",
    "#y.head()"
   ]
  },
  {
   "cell_type": "code",
   "execution_count": null,
   "id": "83872dd9",
   "metadata": {},
   "outputs": [],
   "source": [
    "#X = np.array(X).reshape(-1, 2)\n",
    "#y = np.array(y).reshape(-1, 1)"
   ]
  },
  {
   "cell_type": "code",
   "execution_count": null,
   "id": "3f6ddfc1",
   "metadata": {
    "scrolled": true
   },
   "outputs": [],
   "source": [
    "#y"
   ]
  },
  {
   "cell_type": "code",
   "execution_count": null,
   "id": "014bd435",
   "metadata": {},
   "outputs": [],
   "source": [
    "y = np.array(y).ravel()"
   ]
  },
  {
   "cell_type": "code",
   "execution_count": null,
   "id": "2beb86b6",
   "metadata": {},
   "outputs": [],
   "source": [
    "#y"
   ]
  },
  {
   "cell_type": "code",
   "execution_count": null,
   "id": "61a2e164",
   "metadata": {},
   "outputs": [],
   "source": [
    "X_train,X_test,y_train,y_test=train_test_split(X,y,test_size=0.2)"
   ]
  },
  {
   "cell_type": "code",
   "execution_count": null,
   "id": "dae747bc",
   "metadata": {},
   "outputs": [],
   "source": [
    "#len(X_train)"
   ]
  },
  {
   "cell_type": "code",
   "execution_count": null,
   "id": "3c878723",
   "metadata": {
    "scrolled": true
   },
   "outputs": [],
   "source": [
    "#len(X_test)"
   ]
  },
  {
   "cell_type": "markdown",
   "id": "dd8aa256",
   "metadata": {},
   "source": [
    "## Random forest classification"
   ]
  },
  {
   "cell_type": "code",
   "execution_count": null,
   "id": "28e9bb08",
   "metadata": {},
   "outputs": [],
   "source": [
    "from sklearn.tree import DecisionTreeClassifier\n",
    "from sklearn.metrics import accuracy_score"
   ]
  },
  {
   "cell_type": "code",
   "execution_count": null,
   "id": "145ad140",
   "metadata": {},
   "outputs": [],
   "source": [
    "from sklearn.ensemble import RandomForestClassifier"
   ]
  },
  {
   "cell_type": "code",
   "execution_count": null,
   "id": "6954597c",
   "metadata": {},
   "outputs": [],
   "source": [
    "rfc = RandomForestClassifier(n_estimators=100)"
   ]
  },
  {
   "cell_type": "code",
   "execution_count": null,
   "id": "ba79c70a",
   "metadata": {},
   "outputs": [],
   "source": [
    "rfc.fit(X_train, y_train)"
   ]
  },
  {
   "cell_type": "code",
   "execution_count": null,
   "id": "e98f39f5",
   "metadata": {},
   "outputs": [],
   "source": [
    "y_pred_rfc = rfc.predict(X_test)"
   ]
  },
  {
   "cell_type": "code",
   "execution_count": null,
   "id": "56c0674d",
   "metadata": {
    "scrolled": true
   },
   "outputs": [],
   "source": [
    "accuracy = accuracy_score(y_test, y_pred_rfc)\n",
    "print(\"Accuracy: {:.2f}%\".format(accuracy * 100))"
   ]
  },
  {
   "cell_type": "code",
   "execution_count": null,
   "id": "483ff6d4",
   "metadata": {},
   "outputs": [],
   "source": [
    "conf_mat_rfc = confusion_matrix(y_test, y_pred_rfc)\n",
    "print('Confusion matrix:')\n",
    "conf_mat_rfc"
   ]
  },
  {
   "cell_type": "code",
   "execution_count": null,
   "id": "f407a514",
   "metadata": {},
   "outputs": [],
   "source": [
    "label_mapping = {'NEGATIVE': -1, 'NEUTRAL': 0, 'POSITIVE': 1}"
   ]
  },
  {
   "cell_type": "code",
   "execution_count": null,
   "id": "e4e1473d",
   "metadata": {},
   "outputs": [],
   "source": [
    "clr_rfc = classification_report(y_test, y_pred_rfc, target_names=label_mapping.keys())\n"
   ]
  },
  {
   "cell_type": "code",
   "execution_count": null,
   "id": "bfb582f4",
   "metadata": {
    "scrolled": false
   },
   "outputs": [],
   "source": [
    "'''plt.figure(figsize=(8, 8))\n",
    "sns.heatmap(conf_mat_rfc, annot=True, vmin=0, fmt='g', cbar=False, cmap='Blues')\n",
    "\n",
    "plt.xticks(np.arange(3) + 0.5, label_mapping.keys())\n",
    "plt.yticks(np.arange(3) + 0.5, label_mapping.keys())\n",
    "plt.xlabel(\"Predicted\")\n",
    "plt.ylabel(\"Actual\")\n",
    "plt.title(\"Confusion Matrix\")\n",
    "plt.show()\n",
    "\n",
    "print(\"Classification Report:\\n----------------------\\n\", clr_rfc)'''"
   ]
  },
  {
   "cell_type": "code",
   "execution_count": null,
   "id": "a0b5b45f",
   "metadata": {},
   "outputs": [],
   "source": [
    "test_data = pd.read_excel('test_values_3.xlsx',sheet_name='Sheet2')\n",
    "#test_data.head()"
   ]
  },
  {
   "cell_type": "code",
   "execution_count": null,
   "id": "ee709888",
   "metadata": {},
   "outputs": [],
   "source": [
    "feature1=test_data['mean_1_a']\n",
    "feature2=test_data['stddev_1_a']\n",
    "feature3=test_data['covmat_1_a']\n",
    "feature4=test_data['eigen_1_a']\n",
    "feature5=test_data['logm_1_a']\n",
    "feature6=test_data['entropy1_a']\n",
    "feature7=test_data['correlate_1_a']"
   ]
  },
  {
   "cell_type": "code",
   "execution_count": null,
   "id": "54452439",
   "metadata": {},
   "outputs": [],
   "source": [
    "import RPi.GPIO as gpio\n",
    "import time\n",
    "gpio.setmode(gpio.BCM)\n",
    "led=[17,18,27]\n",
    "red_led=17\n",
    "blue_led=18\n",
    "green_led=27\n",
    "gpio.setup(red_led,g.OUT)\n",
    "gpio.setup(blue_led,g.OUT)\n",
    "gpio.setup(green_led,g.OUT)"
   ]
  },
  {
   "cell_type": "code",
   "execution_count": null,
   "id": "0b90154a",
   "metadata": {},
   "outputs": [],
   "source": [
    "for t1,t2,t3,t4,t5,t6,t7 in zip(feature1,feature2,feature3,feature4,feature5,feature6,feature7):\n",
    "    \n",
    "    input_test_data = (t1,t2,t3,t4,t5,t6,t7)\n",
    "    input_data_array = np.asarray(input_test_data)\n",
    "    input_data_array_reshape=input_data_array.reshape(1,-1)\n",
    "    \n",
    "    prediction=rfc.predict(input_data_array_reshape)\n",
    "    \n",
    "    if prediction==0:\n",
    "        emotion_result=\"neutral\"\n",
    "        gpio.output(green_led,gpio.HIGH)\n",
    "        time.sleep(1)\n",
    "        gpio.output(green_led,gpio.LOW)\n",
    "    elif prediction==1:\n",
    "        emotion_result=\"happy\"\n",
    "        gpio.output(blue_led,gpio.HIGH)\n",
    "        time.sleep(1)\n",
    "        gpio.output(blue_led,gpio.LOW)\n",
    "    elif prediction==-1:\n",
    "        emotion_result=\"sad\"\n",
    "        gpio.output(red_led,gpio.HIGH)\n",
    "        time.sleep(1)\n",
    "        gpio.output(red_led,gpio.LOW)\n",
    "    print(\"Test data \",input_test_data,\"\\nThe emotion is \",emotion_result)\n",
    "    print()"
   ]
  }
 ],
 "metadata": {
  "kernelspec": {
   "display_name": "Python 3 (ipykernel)",
   "language": "python",
   "name": "python3"
  },
  "language_info": {
   "codemirror_mode": {
    "name": "ipython",
    "version": 3
   },
   "file_extension": ".py",
   "mimetype": "text/x-python",
   "name": "python",
   "nbconvert_exporter": "python",
   "pygments_lexer": "ipython3",
   "version": "3.11.5"
  }
 },
 "nbformat": 4,
 "nbformat_minor": 5
}
