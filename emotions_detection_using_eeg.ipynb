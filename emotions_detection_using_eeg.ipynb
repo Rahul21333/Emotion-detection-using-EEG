{
 "cells": [
  {
   "cell_type": "code",
   "execution_count": 1,
   "id": "667b485b",
   "metadata": {},
   "outputs": [],
   "source": [
    "import numpy as np\n",
    "import pandas as pd\n",
    "\n",
    "import matplotlib.pyplot as plt\n",
    "import seaborn as sns\n",
    "\n",
    "from sklearn import datasets\n",
    "from sklearn import svm\n",
    "from sklearn.model_selection import train_test_split\n",
    "\n",
    "\n",
    "from sklearn.metrics import confusion_matrix, classification_report"
   ]
  },
  {
   "cell_type": "code",
   "execution_count": 2,
   "id": "61aaebd7",
   "metadata": {},
   "outputs": [],
   "source": [
    "#pd.set_option('display.max_columns', None)\n",
    "#pd.set_option('display.max_rows', None)"
   ]
  },
  {
   "cell_type": "code",
   "execution_count": 3,
   "id": "cd81b1ce",
   "metadata": {},
   "outputs": [
    {
     "data": {
      "text/html": [
       "<div>\n",
       "<style scoped>\n",
       "    .dataframe tbody tr th:only-of-type {\n",
       "        vertical-align: middle;\n",
       "    }\n",
       "\n",
       "    .dataframe tbody tr th {\n",
       "        vertical-align: top;\n",
       "    }\n",
       "\n",
       "    .dataframe thead th {\n",
       "        text-align: right;\n",
       "    }\n",
       "</style>\n",
       "<table border=\"1\" class=\"dataframe\">\n",
       "  <thead>\n",
       "    <tr style=\"text-align: right;\">\n",
       "      <th></th>\n",
       "      <th># mean_0_a</th>\n",
       "      <th>mean_1_a</th>\n",
       "      <th>mean_2_a</th>\n",
       "      <th>mean_3_a</th>\n",
       "      <th>mean_4_a</th>\n",
       "      <th>mean_d_0_a</th>\n",
       "      <th>mean_d_1_a</th>\n",
       "      <th>mean_d_2_a</th>\n",
       "      <th>mean_d_3_a</th>\n",
       "      <th>mean_d_4_a</th>\n",
       "      <th>...</th>\n",
       "      <th>fft_741_b</th>\n",
       "      <th>fft_742_b</th>\n",
       "      <th>fft_743_b</th>\n",
       "      <th>fft_744_b</th>\n",
       "      <th>fft_745_b</th>\n",
       "      <th>fft_746_b</th>\n",
       "      <th>fft_747_b</th>\n",
       "      <th>fft_748_b</th>\n",
       "      <th>fft_749_b</th>\n",
       "      <th>label</th>\n",
       "    </tr>\n",
       "  </thead>\n",
       "  <tbody>\n",
       "    <tr>\n",
       "      <th>0</th>\n",
       "      <td>4.62</td>\n",
       "      <td>30.3</td>\n",
       "      <td>-356.0</td>\n",
       "      <td>15.60</td>\n",
       "      <td>26.3</td>\n",
       "      <td>1.0700</td>\n",
       "      <td>0.411</td>\n",
       "      <td>-15.70</td>\n",
       "      <td>2.060</td>\n",
       "      <td>3.150</td>\n",
       "      <td>...</td>\n",
       "      <td>23.50</td>\n",
       "      <td>20.3</td>\n",
       "      <td>20.3</td>\n",
       "      <td>23.50</td>\n",
       "      <td>-215.0</td>\n",
       "      <td>280.00</td>\n",
       "      <td>-162.00</td>\n",
       "      <td>-162.00</td>\n",
       "      <td>280.00</td>\n",
       "      <td>NEGATIVE</td>\n",
       "    </tr>\n",
       "    <tr>\n",
       "      <th>1</th>\n",
       "      <td>28.80</td>\n",
       "      <td>33.1</td>\n",
       "      <td>32.0</td>\n",
       "      <td>25.80</td>\n",
       "      <td>22.8</td>\n",
       "      <td>6.5500</td>\n",
       "      <td>1.680</td>\n",
       "      <td>2.88</td>\n",
       "      <td>3.830</td>\n",
       "      <td>-4.820</td>\n",
       "      <td>...</td>\n",
       "      <td>-23.30</td>\n",
       "      <td>-21.8</td>\n",
       "      <td>-21.8</td>\n",
       "      <td>-23.30</td>\n",
       "      <td>182.0</td>\n",
       "      <td>2.57</td>\n",
       "      <td>-31.60</td>\n",
       "      <td>-31.60</td>\n",
       "      <td>2.57</td>\n",
       "      <td>NEUTRAL</td>\n",
       "    </tr>\n",
       "    <tr>\n",
       "      <th>2</th>\n",
       "      <td>8.90</td>\n",
       "      <td>29.4</td>\n",
       "      <td>-416.0</td>\n",
       "      <td>16.70</td>\n",
       "      <td>23.7</td>\n",
       "      <td>79.9000</td>\n",
       "      <td>3.360</td>\n",
       "      <td>90.20</td>\n",
       "      <td>89.900</td>\n",
       "      <td>2.030</td>\n",
       "      <td>...</td>\n",
       "      <td>462.00</td>\n",
       "      <td>-233.0</td>\n",
       "      <td>-233.0</td>\n",
       "      <td>462.00</td>\n",
       "      <td>-267.0</td>\n",
       "      <td>281.00</td>\n",
       "      <td>-148.00</td>\n",
       "      <td>-148.00</td>\n",
       "      <td>281.00</td>\n",
       "      <td>POSITIVE</td>\n",
       "    </tr>\n",
       "    <tr>\n",
       "      <th>3</th>\n",
       "      <td>14.90</td>\n",
       "      <td>31.6</td>\n",
       "      <td>-143.0</td>\n",
       "      <td>19.80</td>\n",
       "      <td>24.3</td>\n",
       "      <td>-0.5840</td>\n",
       "      <td>-0.284</td>\n",
       "      <td>8.82</td>\n",
       "      <td>2.300</td>\n",
       "      <td>-1.970</td>\n",
       "      <td>...</td>\n",
       "      <td>299.00</td>\n",
       "      <td>-243.0</td>\n",
       "      <td>-243.0</td>\n",
       "      <td>299.00</td>\n",
       "      <td>132.0</td>\n",
       "      <td>-12.40</td>\n",
       "      <td>9.53</td>\n",
       "      <td>9.53</td>\n",
       "      <td>-12.40</td>\n",
       "      <td>POSITIVE</td>\n",
       "    </tr>\n",
       "    <tr>\n",
       "      <th>4</th>\n",
       "      <td>28.30</td>\n",
       "      <td>31.3</td>\n",
       "      <td>45.2</td>\n",
       "      <td>27.30</td>\n",
       "      <td>24.5</td>\n",
       "      <td>34.8000</td>\n",
       "      <td>-5.790</td>\n",
       "      <td>3.06</td>\n",
       "      <td>41.400</td>\n",
       "      <td>5.520</td>\n",
       "      <td>...</td>\n",
       "      <td>12.00</td>\n",
       "      <td>38.1</td>\n",
       "      <td>38.1</td>\n",
       "      <td>12.00</td>\n",
       "      <td>119.0</td>\n",
       "      <td>-17.60</td>\n",
       "      <td>23.90</td>\n",
       "      <td>23.90</td>\n",
       "      <td>-17.60</td>\n",
       "      <td>NEUTRAL</td>\n",
       "    </tr>\n",
       "    <tr>\n",
       "      <th>...</th>\n",
       "      <td>...</td>\n",
       "      <td>...</td>\n",
       "      <td>...</td>\n",
       "      <td>...</td>\n",
       "      <td>...</td>\n",
       "      <td>...</td>\n",
       "      <td>...</td>\n",
       "      <td>...</td>\n",
       "      <td>...</td>\n",
       "      <td>...</td>\n",
       "      <td>...</td>\n",
       "      <td>...</td>\n",
       "      <td>...</td>\n",
       "      <td>...</td>\n",
       "      <td>...</td>\n",
       "      <td>...</td>\n",
       "      <td>...</td>\n",
       "      <td>...</td>\n",
       "      <td>...</td>\n",
       "      <td>...</td>\n",
       "      <td>...</td>\n",
       "    </tr>\n",
       "    <tr>\n",
       "      <th>194</th>\n",
       "      <td>27.90</td>\n",
       "      <td>29.9</td>\n",
       "      <td>31.2</td>\n",
       "      <td>27.40</td>\n",
       "      <td>25.8</td>\n",
       "      <td>-1.6100</td>\n",
       "      <td>0.134</td>\n",
       "      <td>1.18</td>\n",
       "      <td>-0.413</td>\n",
       "      <td>-0.181</td>\n",
       "      <td>...</td>\n",
       "      <td>-5.98</td>\n",
       "      <td>45.8</td>\n",
       "      <td>45.8</td>\n",
       "      <td>-5.98</td>\n",
       "      <td>150.0</td>\n",
       "      <td>5.96</td>\n",
       "      <td>14.80</td>\n",
       "      <td>14.80</td>\n",
       "      <td>5.96</td>\n",
       "      <td>NEUTRAL</td>\n",
       "    </tr>\n",
       "    <tr>\n",
       "      <th>195</th>\n",
       "      <td>31.40</td>\n",
       "      <td>32.5</td>\n",
       "      <td>32.3</td>\n",
       "      <td>29.60</td>\n",
       "      <td>25.3</td>\n",
       "      <td>2.4700</td>\n",
       "      <td>0.521</td>\n",
       "      <td>6.20</td>\n",
       "      <td>2.370</td>\n",
       "      <td>4.670</td>\n",
       "      <td>...</td>\n",
       "      <td>-1.13</td>\n",
       "      <td>11.6</td>\n",
       "      <td>11.6</td>\n",
       "      <td>-1.13</td>\n",
       "      <td>136.0</td>\n",
       "      <td>-23.00</td>\n",
       "      <td>26.80</td>\n",
       "      <td>26.80</td>\n",
       "      <td>-23.00</td>\n",
       "      <td>NEUTRAL</td>\n",
       "    </tr>\n",
       "    <tr>\n",
       "      <th>196</th>\n",
       "      <td>2.75</td>\n",
       "      <td>10.6</td>\n",
       "      <td>22.9</td>\n",
       "      <td>-5.72</td>\n",
       "      <td>24.5</td>\n",
       "      <td>-0.0941</td>\n",
       "      <td>1.530</td>\n",
       "      <td>2.84</td>\n",
       "      <td>1.440</td>\n",
       "      <td>-1.730</td>\n",
       "      <td>...</td>\n",
       "      <td>-13.60</td>\n",
       "      <td>-52.1</td>\n",
       "      <td>-52.1</td>\n",
       "      <td>-13.60</td>\n",
       "      <td>84.2</td>\n",
       "      <td>46.50</td>\n",
       "      <td>-44.00</td>\n",
       "      <td>-44.00</td>\n",
       "      <td>46.50</td>\n",
       "      <td>POSITIVE</td>\n",
       "    </tr>\n",
       "    <tr>\n",
       "      <th>197</th>\n",
       "      <td>26.70</td>\n",
       "      <td>30.0</td>\n",
       "      <td>31.1</td>\n",
       "      <td>25.70</td>\n",
       "      <td>22.9</td>\n",
       "      <td>-2.5700</td>\n",
       "      <td>-3.070</td>\n",
       "      <td>-4.37</td>\n",
       "      <td>-2.430</td>\n",
       "      <td>-5.160</td>\n",
       "      <td>...</td>\n",
       "      <td>-31.30</td>\n",
       "      <td>22.9</td>\n",
       "      <td>22.9</td>\n",
       "      <td>-31.30</td>\n",
       "      <td>113.0</td>\n",
       "      <td>-25.40</td>\n",
       "      <td>13.80</td>\n",
       "      <td>13.80</td>\n",
       "      <td>-25.40</td>\n",
       "      <td>NEUTRAL</td>\n",
       "    </tr>\n",
       "    <tr>\n",
       "      <th>198</th>\n",
       "      <td>9.24</td>\n",
       "      <td>31.1</td>\n",
       "      <td>17.1</td>\n",
       "      <td>8.54</td>\n",
       "      <td>24.0</td>\n",
       "      <td>2.8000</td>\n",
       "      <td>4.100</td>\n",
       "      <td>9.11</td>\n",
       "      <td>2.810</td>\n",
       "      <td>-0.536</td>\n",
       "      <td>...</td>\n",
       "      <td>-10.40</td>\n",
       "      <td>44.3</td>\n",
       "      <td>44.3</td>\n",
       "      <td>-10.40</td>\n",
       "      <td>6.1</td>\n",
       "      <td>-48.20</td>\n",
       "      <td>7.95</td>\n",
       "      <td>7.95</td>\n",
       "      <td>-48.20</td>\n",
       "      <td>POSITIVE</td>\n",
       "    </tr>\n",
       "  </tbody>\n",
       "</table>\n",
       "<p>199 rows × 2549 columns</p>\n",
       "</div>"
      ],
      "text/plain": [
       "     # mean_0_a  mean_1_a  mean_2_a  mean_3_a  mean_4_a  mean_d_0_a  \\\n",
       "0          4.62      30.3    -356.0     15.60      26.3      1.0700   \n",
       "1         28.80      33.1      32.0     25.80      22.8      6.5500   \n",
       "2          8.90      29.4    -416.0     16.70      23.7     79.9000   \n",
       "3         14.90      31.6    -143.0     19.80      24.3     -0.5840   \n",
       "4         28.30      31.3      45.2     27.30      24.5     34.8000   \n",
       "..          ...       ...       ...       ...       ...         ...   \n",
       "194       27.90      29.9      31.2     27.40      25.8     -1.6100   \n",
       "195       31.40      32.5      32.3     29.60      25.3      2.4700   \n",
       "196        2.75      10.6      22.9     -5.72      24.5     -0.0941   \n",
       "197       26.70      30.0      31.1     25.70      22.9     -2.5700   \n",
       "198        9.24      31.1      17.1      8.54      24.0      2.8000   \n",
       "\n",
       "     mean_d_1_a  mean_d_2_a  mean_d_3_a  mean_d_4_a  ...  fft_741_b  \\\n",
       "0         0.411      -15.70       2.060       3.150  ...      23.50   \n",
       "1         1.680        2.88       3.830      -4.820  ...     -23.30   \n",
       "2         3.360       90.20      89.900       2.030  ...     462.00   \n",
       "3        -0.284        8.82       2.300      -1.970  ...     299.00   \n",
       "4        -5.790        3.06      41.400       5.520  ...      12.00   \n",
       "..          ...         ...         ...         ...  ...        ...   \n",
       "194       0.134        1.18      -0.413      -0.181  ...      -5.98   \n",
       "195       0.521        6.20       2.370       4.670  ...      -1.13   \n",
       "196       1.530        2.84       1.440      -1.730  ...     -13.60   \n",
       "197      -3.070       -4.37      -2.430      -5.160  ...     -31.30   \n",
       "198       4.100        9.11       2.810      -0.536  ...     -10.40   \n",
       "\n",
       "     fft_742_b  fft_743_b  fft_744_b  fft_745_b  fft_746_b  fft_747_b  \\\n",
       "0         20.3       20.3      23.50     -215.0     280.00    -162.00   \n",
       "1        -21.8      -21.8     -23.30      182.0       2.57     -31.60   \n",
       "2       -233.0     -233.0     462.00     -267.0     281.00    -148.00   \n",
       "3       -243.0     -243.0     299.00      132.0     -12.40       9.53   \n",
       "4         38.1       38.1      12.00      119.0     -17.60      23.90   \n",
       "..         ...        ...        ...        ...        ...        ...   \n",
       "194       45.8       45.8      -5.98      150.0       5.96      14.80   \n",
       "195       11.6       11.6      -1.13      136.0     -23.00      26.80   \n",
       "196      -52.1      -52.1     -13.60       84.2      46.50     -44.00   \n",
       "197       22.9       22.9     -31.30      113.0     -25.40      13.80   \n",
       "198       44.3       44.3     -10.40        6.1     -48.20       7.95   \n",
       "\n",
       "     fft_748_b  fft_749_b     label  \n",
       "0      -162.00     280.00  NEGATIVE  \n",
       "1       -31.60       2.57   NEUTRAL  \n",
       "2      -148.00     281.00  POSITIVE  \n",
       "3         9.53     -12.40  POSITIVE  \n",
       "4        23.90     -17.60   NEUTRAL  \n",
       "..         ...        ...       ...  \n",
       "194      14.80       5.96   NEUTRAL  \n",
       "195      26.80     -23.00   NEUTRAL  \n",
       "196     -44.00      46.50  POSITIVE  \n",
       "197      13.80     -25.40   NEUTRAL  \n",
       "198       7.95     -48.20  POSITIVE  \n",
       "\n",
       "[199 rows x 2549 columns]"
      ]
     },
     "execution_count": 3,
     "metadata": {},
     "output_type": "execute_result"
    }
   ],
   "source": [
    "\n",
    "data = pd.read_csv('emotions_2.csv')\n",
    "data"
   ]
  },
  {
   "cell_type": "code",
   "execution_count": 4,
   "id": "907b9ee6",
   "metadata": {},
   "outputs": [
    {
     "data": {
      "image/png": "[encoded data removed]",
      "text/plain": [
       "<Figure size 1440x720 with 1 Axes>"
      ]
     },
     "metadata": {
      "needs_background": "light"
     },
     "output_type": "display_data"
    }
   ],
   "source": [
    "\n",
    "sample = data.loc[0, 'fft_0_b':'fft_749_b']\n",
    "\n",
    "plt.figure(figsize=(20, 10))\n",
    "plt.plot(range(len(sample)), sample)\n",
    "plt.title(\"Features fft_0_b through fft_749_b\")\n",
    "plt.show()"
   ]
  },
  {
   "cell_type": "code",
   "execution_count": 5,
   "id": "42eca417",
   "metadata": {
    "scrolled": true
   },
   "outputs": [
    {
     "data": {
      "text/html": [
       "<div>\n",
       "<style scoped>\n",
       "    .dataframe tbody tr th:only-of-type {\n",
       "        vertical-align: middle;\n",
       "    }\n",
       "\n",
       "    .dataframe tbody tr th {\n",
       "        vertical-align: top;\n",
       "    }\n",
       "\n",
       "    .dataframe thead th {\n",
       "        text-align: right;\n",
       "    }\n",
       "</style>\n",
       "<table border=\"1\" class=\"dataframe\">\n",
       "  <thead>\n",
       "    <tr style=\"text-align: right;\">\n",
       "      <th></th>\n",
       "      <th># mean_0_a</th>\n",
       "      <th>mean_1_a</th>\n",
       "      <th>mean_2_a</th>\n",
       "      <th>mean_3_a</th>\n",
       "      <th>mean_4_a</th>\n",
       "      <th>mean_d_0_a</th>\n",
       "      <th>mean_d_1_a</th>\n",
       "      <th>mean_d_2_a</th>\n",
       "      <th>mean_d_3_a</th>\n",
       "      <th>mean_d_4_a</th>\n",
       "      <th>...</th>\n",
       "      <th>fft_741_b</th>\n",
       "      <th>fft_742_b</th>\n",
       "      <th>fft_743_b</th>\n",
       "      <th>fft_744_b</th>\n",
       "      <th>fft_745_b</th>\n",
       "      <th>fft_746_b</th>\n",
       "      <th>fft_747_b</th>\n",
       "      <th>fft_748_b</th>\n",
       "      <th>fft_749_b</th>\n",
       "      <th>label</th>\n",
       "    </tr>\n",
       "  </thead>\n",
       "  <tbody>\n",
       "    <tr>\n",
       "      <th>0</th>\n",
       "      <td>4.62</td>\n",
       "      <td>30.3</td>\n",
       "      <td>-356.0</td>\n",
       "      <td>15.60</td>\n",
       "      <td>26.3</td>\n",
       "      <td>1.0700</td>\n",
       "      <td>0.411</td>\n",
       "      <td>-15.70</td>\n",
       "      <td>2.060</td>\n",
       "      <td>3.150</td>\n",
       "      <td>...</td>\n",
       "      <td>23.50</td>\n",
       "      <td>20.3</td>\n",
       "      <td>20.3</td>\n",
       "      <td>23.50</td>\n",
       "      <td>-215.0</td>\n",
       "      <td>280.00</td>\n",
       "      <td>-162.00</td>\n",
       "      <td>-162.00</td>\n",
       "      <td>280.00</td>\n",
       "      <td>-1</td>\n",
       "    </tr>\n",
       "    <tr>\n",
       "      <th>1</th>\n",
       "      <td>28.80</td>\n",
       "      <td>33.1</td>\n",
       "      <td>32.0</td>\n",
       "      <td>25.80</td>\n",
       "      <td>22.8</td>\n",
       "      <td>6.5500</td>\n",
       "      <td>1.680</td>\n",
       "      <td>2.88</td>\n",
       "      <td>3.830</td>\n",
       "      <td>-4.820</td>\n",
       "      <td>...</td>\n",
       "      <td>-23.30</td>\n",
       "      <td>-21.8</td>\n",
       "      <td>-21.8</td>\n",
       "      <td>-23.30</td>\n",
       "      <td>182.0</td>\n",
       "      <td>2.57</td>\n",
       "      <td>-31.60</td>\n",
       "      <td>-31.60</td>\n",
       "      <td>2.57</td>\n",
       "      <td>0</td>\n",
       "    </tr>\n",
       "    <tr>\n",
       "      <th>2</th>\n",
       "      <td>8.90</td>\n",
       "      <td>29.4</td>\n",
       "      <td>-416.0</td>\n",
       "      <td>16.70</td>\n",
       "      <td>23.7</td>\n",
       "      <td>79.9000</td>\n",
       "      <td>3.360</td>\n",
       "      <td>90.20</td>\n",
       "      <td>89.900</td>\n",
       "      <td>2.030</td>\n",
       "      <td>...</td>\n",
       "      <td>462.00</td>\n",
       "      <td>-233.0</td>\n",
       "      <td>-233.0</td>\n",
       "      <td>462.00</td>\n",
       "      <td>-267.0</td>\n",
       "      <td>281.00</td>\n",
       "      <td>-148.00</td>\n",
       "      <td>-148.00</td>\n",
       "      <td>281.00</td>\n",
       "      <td>1</td>\n",
       "    </tr>\n",
       "    <tr>\n",
       "      <th>3</th>\n",
       "      <td>14.90</td>\n",
       "      <td>31.6</td>\n",
       "      <td>-143.0</td>\n",
       "      <td>19.80</td>\n",
       "      <td>24.3</td>\n",
       "      <td>-0.5840</td>\n",
       "      <td>-0.284</td>\n",
       "      <td>8.82</td>\n",
       "      <td>2.300</td>\n",
       "      <td>-1.970</td>\n",
       "      <td>...</td>\n",
       "      <td>299.00</td>\n",
       "      <td>-243.0</td>\n",
       "      <td>-243.0</td>\n",
       "      <td>299.00</td>\n",
       "      <td>132.0</td>\n",
       "      <td>-12.40</td>\n",
       "      <td>9.53</td>\n",
       "      <td>9.53</td>\n",
       "      <td>-12.40</td>\n",
       "      <td>1</td>\n",
       "    </tr>\n",
       "    <tr>\n",
       "      <th>4</th>\n",
       "      <td>28.30</td>\n",
       "      <td>31.3</td>\n",
       "      <td>45.2</td>\n",
       "      <td>27.30</td>\n",
       "      <td>24.5</td>\n",
       "      <td>34.8000</td>\n",
       "      <td>-5.790</td>\n",
       "      <td>3.06</td>\n",
       "      <td>41.400</td>\n",
       "      <td>5.520</td>\n",
       "      <td>...</td>\n",
       "      <td>12.00</td>\n",
       "      <td>38.1</td>\n",
       "      <td>38.1</td>\n",
       "      <td>12.00</td>\n",
       "      <td>119.0</td>\n",
       "      <td>-17.60</td>\n",
       "      <td>23.90</td>\n",
       "      <td>23.90</td>\n",
       "      <td>-17.60</td>\n",
       "      <td>0</td>\n",
       "    </tr>\n",
       "    <tr>\n",
       "      <th>...</th>\n",
       "      <td>...</td>\n",
       "      <td>...</td>\n",
       "      <td>...</td>\n",
       "      <td>...</td>\n",
       "      <td>...</td>\n",
       "      <td>...</td>\n",
       "      <td>...</td>\n",
       "      <td>...</td>\n",
       "      <td>...</td>\n",
       "      <td>...</td>\n",
       "      <td>...</td>\n",
       "      <td>...</td>\n",
       "      <td>...</td>\n",
       "      <td>...</td>\n",
       "      <td>...</td>\n",
       "      <td>...</td>\n",
       "      <td>...</td>\n",
       "      <td>...</td>\n",
       "      <td>...</td>\n",
       "      <td>...</td>\n",
       "      <td>...</td>\n",
       "    </tr>\n",
       "    <tr>\n",
       "      <th>194</th>\n",
       "      <td>27.90</td>\n",
       "      <td>29.9</td>\n",
       "      <td>31.2</td>\n",
       "      <td>27.40</td>\n",
       "      <td>25.8</td>\n",
       "      <td>-1.6100</td>\n",
       "      <td>0.134</td>\n",
       "      <td>1.18</td>\n",
       "      <td>-0.413</td>\n",
       "      <td>-0.181</td>\n",
       "      <td>...</td>\n",
       "      <td>-5.98</td>\n",
       "      <td>45.8</td>\n",
       "      <td>45.8</td>\n",
       "      <td>-5.98</td>\n",
       "      <td>150.0</td>\n",
       "      <td>5.96</td>\n",
       "      <td>14.80</td>\n",
       "      <td>14.80</td>\n",
       "      <td>5.96</td>\n",
       "      <td>0</td>\n",
       "    </tr>\n",
       "    <tr>\n",
       "      <th>195</th>\n",
       "      <td>31.40</td>\n",
       "      <td>32.5</td>\n",
       "      <td>32.3</td>\n",
       "      <td>29.60</td>\n",
       "      <td>25.3</td>\n",
       "      <td>2.4700</td>\n",
       "      <td>0.521</td>\n",
       "      <td>6.20</td>\n",
       "      <td>2.370</td>\n",
       "      <td>4.670</td>\n",
       "      <td>...</td>\n",
       "      <td>-1.13</td>\n",
       "      <td>11.6</td>\n",
       "      <td>11.6</td>\n",
       "      <td>-1.13</td>\n",
       "      <td>136.0</td>\n",
       "      <td>-23.00</td>\n",
       "      <td>26.80</td>\n",
       "      <td>26.80</td>\n",
       "      <td>-23.00</td>\n",
       "      <td>0</td>\n",
       "    </tr>\n",
       "    <tr>\n",
       "      <th>196</th>\n",
       "      <td>2.75</td>\n",
       "      <td>10.6</td>\n",
       "      <td>22.9</td>\n",
       "      <td>-5.72</td>\n",
       "      <td>24.5</td>\n",
       "      <td>-0.0941</td>\n",
       "      <td>1.530</td>\n",
       "      <td>2.84</td>\n",
       "      <td>1.440</td>\n",
       "      <td>-1.730</td>\n",
       "      <td>...</td>\n",
       "      <td>-13.60</td>\n",
       "      <td>-52.1</td>\n",
       "      <td>-52.1</td>\n",
       "      <td>-13.60</td>\n",
       "      <td>84.2</td>\n",
       "      <td>46.50</td>\n",
       "      <td>-44.00</td>\n",
       "      <td>-44.00</td>\n",
       "      <td>46.50</td>\n",
       "      <td>1</td>\n",
       "    </tr>\n",
       "    <tr>\n",
       "      <th>197</th>\n",
       "      <td>26.70</td>\n",
       "      <td>30.0</td>\n",
       "      <td>31.1</td>\n",
       "      <td>25.70</td>\n",
       "      <td>22.9</td>\n",
       "      <td>-2.5700</td>\n",
       "      <td>-3.070</td>\n",
       "      <td>-4.37</td>\n",
       "      <td>-2.430</td>\n",
       "      <td>-5.160</td>\n",
       "      <td>...</td>\n",
       "      <td>-31.30</td>\n",
       "      <td>22.9</td>\n",
       "      <td>22.9</td>\n",
       "      <td>-31.30</td>\n",
       "      <td>113.0</td>\n",
       "      <td>-25.40</td>\n",
       "      <td>13.80</td>\n",
       "      <td>13.80</td>\n",
       "      <td>-25.40</td>\n",
       "      <td>0</td>\n",
       "    </tr>\n",
       "    <tr>\n",
       "      <th>198</th>\n",
       "      <td>9.24</td>\n",
       "      <td>31.1</td>\n",
       "      <td>17.1</td>\n",
       "      <td>8.54</td>\n",
       "      <td>24.0</td>\n",
       "      <td>2.8000</td>\n",
       "      <td>4.100</td>\n",
       "      <td>9.11</td>\n",
       "      <td>2.810</td>\n",
       "      <td>-0.536</td>\n",
       "      <td>...</td>\n",
       "      <td>-10.40</td>\n",
       "      <td>44.3</td>\n",
       "      <td>44.3</td>\n",
       "      <td>-10.40</td>\n",
       "      <td>6.1</td>\n",
       "      <td>-48.20</td>\n",
       "      <td>7.95</td>\n",
       "      <td>7.95</td>\n",
       "      <td>-48.20</td>\n",
       "      <td>1</td>\n",
       "    </tr>\n",
       "  </tbody>\n",
       "</table>\n",
       "<p>199 rows × 2549 columns</p>\n",
       "</div>"
      ],
      "text/plain": [
       "     # mean_0_a  mean_1_a  mean_2_a  mean_3_a  mean_4_a  mean_d_0_a  \\\n",
       "0          4.62      30.3    -356.0     15.60      26.3      1.0700   \n",
       "1         28.80      33.1      32.0     25.80      22.8      6.5500   \n",
       "2          8.90      29.4    -416.0     16.70      23.7     79.9000   \n",
       "3         14.90      31.6    -143.0     19.80      24.3     -0.5840   \n",
       "4         28.30      31.3      45.2     27.30      24.5     34.8000   \n",
       "..          ...       ...       ...       ...       ...         ...   \n",
       "194       27.90      29.9      31.2     27.40      25.8     -1.6100   \n",
       "195       31.40      32.5      32.3     29.60      25.3      2.4700   \n",
       "196        2.75      10.6      22.9     -5.72      24.5     -0.0941   \n",
       "197       26.70      30.0      31.1     25.70      22.9     -2.5700   \n",
       "198        9.24      31.1      17.1      8.54      24.0      2.8000   \n",
       "\n",
       "     mean_d_1_a  mean_d_2_a  mean_d_3_a  mean_d_4_a  ...  fft_741_b  \\\n",
       "0         0.411      -15.70       2.060       3.150  ...      23.50   \n",
       "1         1.680        2.88       3.830      -4.820  ...     -23.30   \n",
       "2         3.360       90.20      89.900       2.030  ...     462.00   \n",
       "3        -0.284        8.82       2.300      -1.970  ...     299.00   \n",
       "4        -5.790        3.06      41.400       5.520  ...      12.00   \n",
       "..          ...         ...         ...         ...  ...        ...   \n",
       "194       0.134        1.18      -0.413      -0.181  ...      -5.98   \n",
       "195       0.521        6.20       2.370       4.670  ...      -1.13   \n",
       "196       1.530        2.84       1.440      -1.730  ...     -13.60   \n",
       "197      -3.070       -4.37      -2.430      -5.160  ...     -31.30   \n",
       "198       4.100        9.11       2.810      -0.536  ...     -10.40   \n",
       "\n",
       "     fft_742_b  fft_743_b  fft_744_b  fft_745_b  fft_746_b  fft_747_b  \\\n",
       "0         20.3       20.3      23.50     -215.0     280.00    -162.00   \n",
       "1        -21.8      -21.8     -23.30      182.0       2.57     -31.60   \n",
       "2       -233.0     -233.0     462.00     -267.0     281.00    -148.00   \n",
       "3       -243.0     -243.0     299.00      132.0     -12.40       9.53   \n",
       "4         38.1       38.1      12.00      119.0     -17.60      23.90   \n",
       "..         ...        ...        ...        ...        ...        ...   \n",
       "194       45.8       45.8      -5.98      150.0       5.96      14.80   \n",
       "195       11.6       11.6      -1.13      136.0     -23.00      26.80   \n",
       "196      -52.1      -52.1     -13.60       84.2      46.50     -44.00   \n",
       "197       22.9       22.9     -31.30      113.0     -25.40      13.80   \n",
       "198       44.3       44.3     -10.40        6.1     -48.20       7.95   \n",
       "\n",
       "     fft_748_b  fft_749_b  label  \n",
       "0      -162.00     280.00     -1  \n",
       "1       -31.60       2.57      0  \n",
       "2      -148.00     281.00      1  \n",
       "3         9.53     -12.40      1  \n",
       "4        23.90     -17.60      0  \n",
       "..         ...        ...    ...  \n",
       "194      14.80       5.96      0  \n",
       "195      26.80     -23.00      0  \n",
       "196     -44.00      46.50      1  \n",
       "197      13.80     -25.40      0  \n",
       "198       7.95     -48.20      1  \n",
       "\n",
       "[199 rows x 2549 columns]"
      ]
     },
     "execution_count": 5,
     "metadata": {},
     "output_type": "execute_result"
    }
   ],
   "source": [
    "df=data.replace(['NEGATIVE','POSITIVE','NEUTRAL'],[-1,1,0])\n",
    "df"
   ]
  },
  {
   "cell_type": "code",
   "execution_count": 6,
   "id": "22c5e73f",
   "metadata": {},
   "outputs": [
    {
     "data": {
      "text/html": [
       "<div>\n",
       "<style scoped>\n",
       "    .dataframe tbody tr th:only-of-type {\n",
       "        vertical-align: middle;\n",
       "    }\n",
       "\n",
       "    .dataframe tbody tr th {\n",
       "        vertical-align: top;\n",
       "    }\n",
       "\n",
       "    .dataframe thead th {\n",
       "        text-align: right;\n",
       "    }\n",
       "</style>\n",
       "<table border=\"1\" class=\"dataframe\">\n",
       "  <thead>\n",
       "    <tr style=\"text-align: right;\">\n",
       "      <th></th>\n",
       "      <th>mean_1_a</th>\n",
       "      <th>stddev_1_a</th>\n",
       "      <th>covmat_1_a</th>\n",
       "      <th>eigen_1_a</th>\n",
       "      <th>logm_1_a</th>\n",
       "      <th>entropy1_a</th>\n",
       "      <th>correlate_1_a</th>\n",
       "    </tr>\n",
       "  </thead>\n",
       "  <tbody>\n",
       "    <tr>\n",
       "      <th>0</th>\n",
       "      <td>30.3</td>\n",
       "      <td>7.80</td>\n",
       "      <td>-4310.0</td>\n",
       "      <td>44200.0</td>\n",
       "      <td>8.37</td>\n",
       "      <td>4.98</td>\n",
       "      <td>20600.0</td>\n",
       "    </tr>\n",
       "    <tr>\n",
       "      <th>1</th>\n",
       "      <td>33.1</td>\n",
       "      <td>3.55</td>\n",
       "      <td>-45.9</td>\n",
       "      <td>1160.0</td>\n",
       "      <td>-2.90</td>\n",
       "      <td>5.00</td>\n",
       "      <td>4190.0</td>\n",
       "    </tr>\n",
       "    <tr>\n",
       "      <th>2</th>\n",
       "      <td>29.4</td>\n",
       "      <td>4.12</td>\n",
       "      <td>-1800.0</td>\n",
       "      <td>74600.0</td>\n",
       "      <td>5.77</td>\n",
       "      <td>5.00</td>\n",
       "      <td>423000.0</td>\n",
       "    </tr>\n",
       "    <tr>\n",
       "      <th>3</th>\n",
       "      <td>31.6</td>\n",
       "      <td>2.99</td>\n",
       "      <td>-848.0</td>\n",
       "      <td>45800.0</td>\n",
       "      <td>5.71</td>\n",
       "      <td>5.01</td>\n",
       "      <td>114000.0</td>\n",
       "    </tr>\n",
       "    <tr>\n",
       "      <th>4</th>\n",
       "      <td>31.3</td>\n",
       "      <td>6.99</td>\n",
       "      <td>-74.4</td>\n",
       "      <td>7320.0</td>\n",
       "      <td>-1.99</td>\n",
       "      <td>4.99</td>\n",
       "      <td>9420.0</td>\n",
       "    </tr>\n",
       "  </tbody>\n",
       "</table>\n",
       "</div>"
      ],
      "text/plain": [
       "   mean_1_a  stddev_1_a  covmat_1_a  eigen_1_a  logm_1_a  entropy1_a  \\\n",
       "0      30.3        7.80     -4310.0    44200.0      8.37        4.98   \n",
       "1      33.1        3.55       -45.9     1160.0     -2.90        5.00   \n",
       "2      29.4        4.12     -1800.0    74600.0      5.77        5.00   \n",
       "3      31.6        2.99      -848.0    45800.0      5.71        5.01   \n",
       "4      31.3        6.99       -74.4     7320.0     -1.99        4.99   \n",
       "\n",
       "   correlate_1_a  \n",
       "0        20600.0  \n",
       "1         4190.0  \n",
       "2       423000.0  \n",
       "3       114000.0  \n",
       "4         9420.0  "
      ]
     },
     "execution_count": 6,
     "metadata": {},
     "output_type": "execute_result"
    }
   ],
   "source": [
    "X=df[['mean_1_a','stddev_1_a','covmat_1_a','eigen_1_a','logm_1_a','entropy1_a','correlate_1_a']]\n",
    "X.head()"
   ]
  },
  {
   "cell_type": "code",
   "execution_count": 7,
   "id": "abc2469f",
   "metadata": {
    "scrolled": true
   },
   "outputs": [
    {
     "data": {
      "text/plain": [
       "0   -1\n",
       "1    0\n",
       "2    1\n",
       "3    1\n",
       "4    0\n",
       "Name: label, dtype: int64"
      ]
     },
     "execution_count": 7,
     "metadata": {},
     "output_type": "execute_result"
    }
   ],
   "source": [
    "y=df['label']\n",
    "y.head()"
   ]
  },
  {
   "cell_type": "code",
   "execution_count": 8,
   "id": "83872dd9",
   "metadata": {},
   "outputs": [],
   "source": [
    "#X = np.array(X).reshape(-1, 2)\n",
    "#y = np.array(y).reshape(-1, 1)"
   ]
  },
  {
   "cell_type": "code",
   "execution_count": 9,
   "id": "3f6ddfc1",
   "metadata": {
    "scrolled": true
   },
   "outputs": [
    {
     "data": {
      "text/plain": [
       "0     -1\n",
       "1      0\n",
       "2      1\n",
       "3      1\n",
       "4      0\n",
       "      ..\n",
       "194    0\n",
       "195    0\n",
       "196    1\n",
       "197    0\n",
       "198    1\n",
       "Name: label, Length: 199, dtype: int64"
      ]
     },
     "execution_count": 9,
     "metadata": {},
     "output_type": "execute_result"
    }
   ],
   "source": [
    "y"
   ]
  },
  {
   "cell_type": "code",
   "execution_count": 10,
   "id": "014bd435",
   "metadata": {},
   "outputs": [],
   "source": [
    "y = np.array(y).ravel()"
   ]
  },
  {
   "cell_type": "code",
   "execution_count": 11,
   "id": "2beb86b6",
   "metadata": {},
   "outputs": [
    {
     "data": {
      "text/plain": [
       "array([-1,  0,  1,  1,  0,  0,  1, -1,  0, -1,  1, -1,  0, -1,  0, -1,  1,\n",
       "        0, -1, -1, -1,  0, -1, -1,  1,  0, -1,  0,  1,  1,  1,  0,  0,  1,\n",
       "        0,  0,  1, -1,  1,  0,  0,  0,  1,  0, -1,  1, -1,  1, -1,  1,  1,\n",
       "       -1,  1,  0,  1, -1,  0, -1,  1,  0, -1,  0,  1, -1,  0,  1,  0, -1,\n",
       "        0,  1,  1,  1,  0, -1,  0,  0,  1,  1, -1,  1,  0,  1,  0,  1,  0,\n",
       "        0,  0,  1,  0,  0,  1, -1, -1,  1,  0, -1,  1, -1, -1,  0, -1, -1,\n",
       "       -1, -1, -1,  1, -1,  0,  1,  1,  1,  0, -1,  0,  0,  1,  0,  1,  1,\n",
       "        1,  1,  1,  0,  0,  0,  1,  0, -1, -1,  0, -1,  1,  0, -1,  0, -1,\n",
       "        1,  1,  0, -1,  1, -1,  1,  0,  1,  1,  1,  1,  1,  0, -1, -1, -1,\n",
       "        0,  1,  1,  0,  1,  1,  0, -1, -1, -1,  0, -1,  0,  0,  0, -1, -1,\n",
       "        0,  0, -1,  1,  0,  0, -1,  0, -1, -1,  1, -1,  0, -1,  1,  0,  1,\n",
       "       -1, -1, -1,  0, -1, -1, -1,  0,  0,  1,  0,  1], dtype=int64)"
      ]
     },
     "execution_count": 11,
     "metadata": {},
     "output_type": "execute_result"
    }
   ],
   "source": [
    "y"
   ]
  },
  {
   "cell_type": "code",
   "execution_count": 12,
   "id": "61a2e164",
   "metadata": {},
   "outputs": [],
   "source": [
    "X_train,X_test,y_train,y_test=train_test_split(X,y,test_size=0.2)"
   ]
  },
  {
   "cell_type": "code",
   "execution_count": 13,
   "id": "dae747bc",
   "metadata": {},
   "outputs": [
    {
     "data": {
      "text/plain": [
       "159"
      ]
     },
     "execution_count": 13,
     "metadata": {},
     "output_type": "execute_result"
    }
   ],
   "source": [
    "len(X_train)"
   ]
  },
  {
   "cell_type": "code",
   "execution_count": 14,
   "id": "3c878723",
   "metadata": {
    "scrolled": true
   },
   "outputs": [
    {
     "data": {
      "text/plain": [
       "40"
      ]
     },
     "execution_count": 14,
     "metadata": {},
     "output_type": "execute_result"
    }
   ],
   "source": [
    "len(X_test)"
   ]
  },
  {
   "cell_type": "markdown",
   "id": "fbf8ee5e",
   "metadata": {},
   "source": [
    "## Support vector machine (SVM)"
   ]
  },
  {
   "cell_type": "code",
   "execution_count": 15,
   "id": "4e4d2c55",
   "metadata": {},
   "outputs": [],
   "source": [
    "from sklearn.svm import SVC\n",
    "svm = SVC(kernel='linear', C=1, random_state=0)"
   ]
  },
  {
   "cell_type": "code",
   "execution_count": 16,
   "id": "2ce2c0c9",
   "metadata": {},
   "outputs": [
    {
     "data": {
      "text/plain": [
       "SVC(C=1, kernel='linear', random_state=0)"
      ]
     },
     "execution_count": 16,
     "metadata": {},
     "output_type": "execute_result"
    }
   ],
   "source": [
    "svm.fit(X_train, y_train)"
   ]
  },
  {
   "cell_type": "code",
   "execution_count": 17,
   "id": "1c5899ec",
   "metadata": {},
   "outputs": [],
   "source": [
    "score_svm= svm.score(X_test, y_test)"
   ]
  },
  {
   "cell_type": "code",
   "execution_count": 18,
   "id": "1bfa0360",
   "metadata": {},
   "outputs": [
    {
     "name": "stdout",
     "output_type": "stream",
     "text": [
      "Test accuracy: 80.00%\n"
     ]
    }
   ],
   "source": [
    "score_svm = svm.score(X_test, y_test)\n",
    "print('Test accuracy: {:.2f}%'.format(score_svm * 100))"
   ]
  },
  {
   "cell_type": "code",
   "execution_count": 19,
   "id": "2669e18f",
   "metadata": {},
   "outputs": [],
   "source": [
    "y_pred_svm = svm.predict(X_test)"
   ]
  },
  {
   "cell_type": "code",
   "execution_count": 20,
   "id": "ae112b15",
   "metadata": {},
   "outputs": [
    {
     "name": "stdout",
     "output_type": "stream",
     "text": [
      "Confusion matrix:\n"
     ]
    },
    {
     "data": {
      "text/plain": [
       "array([[15,  0,  0],\n",
       "       [ 0, 10,  1],\n",
       "       [ 4,  3,  7]], dtype=int64)"
      ]
     },
     "execution_count": 20,
     "metadata": {},
     "output_type": "execute_result"
    }
   ],
   "source": [
    "conf_mat_svm = confusion_matrix(y_test, y_pred_svm)\n",
    "print('Confusion matrix:')\n",
    "conf_mat_svm"
   ]
  },
  {
   "cell_type": "code",
   "execution_count": 21,
   "id": "a3dd9ea4",
   "metadata": {},
   "outputs": [],
   "source": [
    "label_mapping = {'NEGATIVE': -1, 'NEUTRAL': 0, 'POSITIVE': 1}"
   ]
  },
  {
   "cell_type": "code",
   "execution_count": 22,
   "id": "24d64e1d",
   "metadata": {},
   "outputs": [],
   "source": [
    "clr_svm = classification_report(y_test, y_pred_svm, target_names=label_mapping.keys())"
   ]
  },
  {
   "cell_type": "code",
   "execution_count": 23,
   "id": "d31e2a80",
   "metadata": {},
   "outputs": [
    {
     "data": {
      "image/png": "[encoded data removed]",
      "text/plain": [
       "<Figure size 576x576 with 1 Axes>"
      ]
     },
     "metadata": {
      "needs_background": "light"
     },
     "output_type": "display_data"
    },
    {
     "name": "stdout",
     "output_type": "stream",
     "text": [
      "Classification Report:\n",
      "----------------------\n",
      "               precision    recall  f1-score   support\n",
      "\n",
      "    NEGATIVE       0.79      1.00      0.88        15\n",
      "     NEUTRAL       0.77      0.91      0.83        11\n",
      "    POSITIVE       0.88      0.50      0.64        14\n",
      "\n",
      "    accuracy                           0.80        40\n",
      "   macro avg       0.81      0.80      0.78        40\n",
      "weighted avg       0.81      0.80      0.78        40\n",
      "\n"
     ]
    }
   ],
   "source": [
    "plt.figure(figsize=(8, 8))\n",
    "sns.heatmap(conf_mat_svm, annot=True, vmin=0, fmt='g', cbar=False, cmap='Blues')\n",
    "\n",
    "plt.xticks(np.arange(3) + 0.5, label_mapping.keys())\n",
    "plt.yticks(np.arange(3) + 0.5, label_mapping.keys())\n",
    "plt.xlabel(\"Predicted\")\n",
    "plt.ylabel(\"Actual\")\n",
    "plt.title(\"Confusion Matrix\")\n",
    "plt.show()\n",
    "\n",
    "print(\"Classification Report:\\n----------------------\\n\", clr_svm)"
   ]
  },
  {
   "cell_type": "code",
   "execution_count": 24,
   "id": "9e5a9299",
   "metadata": {},
   "outputs": [
    {
     "data": {
      "text/html": [
       "<div>\n",
       "<style scoped>\n",
       "    .dataframe tbody tr th:only-of-type {\n",
       "        vertical-align: middle;\n",
       "    }\n",
       "\n",
       "    .dataframe tbody tr th {\n",
       "        vertical-align: top;\n",
       "    }\n",
       "\n",
       "    .dataframe thead th {\n",
       "        text-align: right;\n",
       "    }\n",
       "</style>\n",
       "<table border=\"1\" class=\"dataframe\">\n",
       "  <thead>\n",
       "    <tr style=\"text-align: right;\">\n",
       "      <th></th>\n",
       "      <th>mean_1_a</th>\n",
       "      <th>stddev_1_a</th>\n",
       "      <th>covmat_1_a</th>\n",
       "      <th>eigen_1_a</th>\n",
       "      <th>logm_1_a</th>\n",
       "      <th>entropy1_a</th>\n",
       "      <th>correlate_1_a</th>\n",
       "    </tr>\n",
       "  </thead>\n",
       "  <tbody>\n",
       "    <tr>\n",
       "      <th>0</th>\n",
       "      <td>30.3</td>\n",
       "      <td>7.80</td>\n",
       "      <td>-4310.0</td>\n",
       "      <td>44200</td>\n",
       "      <td>8.37</td>\n",
       "      <td>4.98</td>\n",
       "      <td>20600</td>\n",
       "    </tr>\n",
       "    <tr>\n",
       "      <th>1</th>\n",
       "      <td>33.1</td>\n",
       "      <td>3.55</td>\n",
       "      <td>-45.9</td>\n",
       "      <td>1160</td>\n",
       "      <td>-2.90</td>\n",
       "      <td>5.00</td>\n",
       "      <td>4190</td>\n",
       "    </tr>\n",
       "    <tr>\n",
       "      <th>2</th>\n",
       "      <td>29.4</td>\n",
       "      <td>4.12</td>\n",
       "      <td>-1800.0</td>\n",
       "      <td>74600</td>\n",
       "      <td>5.77</td>\n",
       "      <td>5.00</td>\n",
       "      <td>423000</td>\n",
       "    </tr>\n",
       "    <tr>\n",
       "      <th>3</th>\n",
       "      <td>31.6</td>\n",
       "      <td>2.99</td>\n",
       "      <td>-848.0</td>\n",
       "      <td>45800</td>\n",
       "      <td>5.71</td>\n",
       "      <td>5.01</td>\n",
       "      <td>114000</td>\n",
       "    </tr>\n",
       "    <tr>\n",
       "      <th>4</th>\n",
       "      <td>31.3</td>\n",
       "      <td>6.99</td>\n",
       "      <td>-74.4</td>\n",
       "      <td>7320</td>\n",
       "      <td>-1.99</td>\n",
       "      <td>4.99</td>\n",
       "      <td>9420</td>\n",
       "    </tr>\n",
       "  </tbody>\n",
       "</table>\n",
       "</div>"
      ],
      "text/plain": [
       "   mean_1_a  stddev_1_a  covmat_1_a  eigen_1_a  logm_1_a  entropy1_a  \\\n",
       "0      30.3        7.80     -4310.0      44200      8.37        4.98   \n",
       "1      33.1        3.55       -45.9       1160     -2.90        5.00   \n",
       "2      29.4        4.12     -1800.0      74600      5.77        5.00   \n",
       "3      31.6        2.99      -848.0      45800      5.71        5.01   \n",
       "4      31.3        6.99       -74.4       7320     -1.99        4.99   \n",
       "\n",
       "   correlate_1_a  \n",
       "0          20600  \n",
       "1           4190  \n",
       "2         423000  \n",
       "3         114000  \n",
       "4           9420  "
      ]
     },
     "execution_count": 24,
     "metadata": {},
     "output_type": "execute_result"
    }
   ],
   "source": [
    "test_data = pd.read_excel('test_values_3.xlsx',sheet_name='Sheet2')\n",
    "test_data.head()"
   ]
  },
  {
   "cell_type": "code",
   "execution_count": 25,
   "id": "33e2a58c",
   "metadata": {},
   "outputs": [],
   "source": [
    "feature1=test_data['mean_1_a']\n",
    "feature2=test_data['stddev_1_a']\n",
    "feature3=test_data['covmat_1_a']\n",
    "feature4=test_data['eigen_1_a']\n",
    "feature5=test_data['logm_1_a']\n",
    "feature6=test_data['entropy1_a']\n",
    "feature7=test_data['correlate_1_a']"
   ]
  },
  {
   "cell_type": "code",
   "execution_count": 26,
   "id": "7b13b5e2",
   "metadata": {
    "scrolled": false
   },
   "outputs": [
    {
     "name": "stdout",
     "output_type": "stream",
     "text": [
      "Test data  (30.3, 7.8, -4310.0, 44200, 8.37, 4.98, 20600) \n",
      "The emotion is  sad\n",
      "\n",
      "Test data  (33.1, 3.55, -45.9, 1160, -2.9, 5.0, 4190) \n",
      "The emotion is  neutral\n",
      "\n",
      "Test data  (29.4, 4.12, -1800.0, 74600, 5.77, 5.0, 423000) \n",
      "The emotion is  sad\n",
      "\n",
      "Test data  (31.6, 2.99, -848.0, 45800, 5.71, 5.01, 114000) \n",
      "The emotion is  sad\n",
      "\n",
      "Test data  (31.3, 6.99, -74.4, 7320, -1.99, 4.99, 9420) \n",
      "The emotion is  happy\n",
      "\n",
      "Test data  (30.9, 3.59, -27.4, 1730, -10.7, 5.0, 2660) \n",
      "The emotion is  neutral\n",
      "\n",
      "Test data  (21.0, 3.55, 18.4, 2260, 1.68, 5.0, 3030) \n",
      "The emotion is  happy\n",
      "\n",
      "Test data  (27.8, 5.22, -674.0, 31100, 5.2, 4.99, 149000) \n",
      "The emotion is  happy\n",
      "\n",
      "Test data  (29.7, 4.73, -1.73, 1720, 1.6, 5.0, 4770) \n",
      "The emotion is  neutral\n",
      "\n",
      "Test data  (29.2, 3.93, -4120.0, 33900, 8.73, 5.0, 121000) \n",
      "The emotion is  sad\n",
      "\n",
      "Test data  (28.4, 4.07, -22.0, 841, -3.98, 5.0, 884) \n",
      "The emotion is  neutral\n",
      "\n",
      "Test data  (30.4, 4.02, -1070.0, 18800, 6.01, 5.0, -4080) \n",
      "The emotion is  happy\n",
      "\n",
      "Test data  (32.7, 3.07, 8.5, 851, 1.89, 5.01, 6030) \n",
      "The emotion is  neutral\n",
      "\n",
      "Test data  (31.7, 6.44, 121.0, 38600, 7.22, 4.99, 50000) \n",
      "The emotion is  sad\n",
      "\n",
      "Test data  (31.8, 3.12, -9.32, 891, 3.35, 5.01, 3650) \n",
      "The emotion is  neutral\n",
      "\n",
      "Test data  (23.8, 5.13, -1670.0, 45500, 1.98, 4.99, 104000) \n",
      "The emotion is  sad\n",
      "\n",
      "Test data  (34.9, 4.6, -120.0, 1760, 3.6, 5.0, 6540) \n",
      "The emotion is  neutral\n",
      "\n",
      "Test data  (30.8, 2.71, 23.5, 945, 1.97, 5.01, 5000) \n",
      "The emotion is  neutral\n",
      "\n",
      "Test data  (21.9, 4.16, -27000.0, 190000, 9.73, 4.99, 970000) \n",
      "The emotion is  sad\n",
      "\n",
      "Test data  (27.6, 7.98, -5460.0, 43000, 9.28, 4.97, 269000) \n",
      "The emotion is  sad\n",
      "\n"
     ]
    },
    {
     "name": "stderr",
     "output_type": "stream",
     "text": [
      "C:\\Users\\RAHUL M\\anaconda3\\lib\\site-packages\\sklearn\\base.py:450: UserWarning: X does not have valid feature names, but SVC was fitted with feature names\n",
      "  warnings.warn(\n",
      "C:\\Users\\RAHUL M\\anaconda3\\lib\\site-packages\\sklearn\\base.py:450: UserWarning: X does not have valid feature names, but SVC was fitted with feature names\n",
      "  warnings.warn(\n",
      "C:\\Users\\RAHUL M\\anaconda3\\lib\\site-packages\\sklearn\\base.py:450: UserWarning: X does not have valid feature names, but SVC was fitted with feature names\n",
      "  warnings.warn(\n",
      "C:\\Users\\RAHUL M\\anaconda3\\lib\\site-packages\\sklearn\\base.py:450: UserWarning: X does not have valid feature names, but SVC was fitted with feature names\n",
      "  warnings.warn(\n",
      "C:\\Users\\RAHUL M\\anaconda3\\lib\\site-packages\\sklearn\\base.py:450: UserWarning: X does not have valid feature names, but SVC was fitted with feature names\n",
      "  warnings.warn(\n",
      "C:\\Users\\RAHUL M\\anaconda3\\lib\\site-packages\\sklearn\\base.py:450: UserWarning: X does not have valid feature names, but SVC was fitted with feature names\n",
      "  warnings.warn(\n",
      "C:\\Users\\RAHUL M\\anaconda3\\lib\\site-packages\\sklearn\\base.py:450: UserWarning: X does not have valid feature names, but SVC was fitted with feature names\n",
      "  warnings.warn(\n",
      "C:\\Users\\RAHUL M\\anaconda3\\lib\\site-packages\\sklearn\\base.py:450: UserWarning: X does not have valid feature names, but SVC was fitted with feature names\n",
      "  warnings.warn(\n",
      "C:\\Users\\RAHUL M\\anaconda3\\lib\\site-packages\\sklearn\\base.py:450: UserWarning: X does not have valid feature names, but SVC was fitted with feature names\n",
      "  warnings.warn(\n",
      "C:\\Users\\RAHUL M\\anaconda3\\lib\\site-packages\\sklearn\\base.py:450: UserWarning: X does not have valid feature names, but SVC was fitted with feature names\n",
      "  warnings.warn(\n",
      "C:\\Users\\RAHUL M\\anaconda3\\lib\\site-packages\\sklearn\\base.py:450: UserWarning: X does not have valid feature names, but SVC was fitted with feature names\n",
      "  warnings.warn(\n",
      "C:\\Users\\RAHUL M\\anaconda3\\lib\\site-packages\\sklearn\\base.py:450: UserWarning: X does not have valid feature names, but SVC was fitted with feature names\n",
      "  warnings.warn(\n",
      "C:\\Users\\RAHUL M\\anaconda3\\lib\\site-packages\\sklearn\\base.py:450: UserWarning: X does not have valid feature names, but SVC was fitted with feature names\n",
      "  warnings.warn(\n",
      "C:\\Users\\RAHUL M\\anaconda3\\lib\\site-packages\\sklearn\\base.py:450: UserWarning: X does not have valid feature names, but SVC was fitted with feature names\n",
      "  warnings.warn(\n",
      "C:\\Users\\RAHUL M\\anaconda3\\lib\\site-packages\\sklearn\\base.py:450: UserWarning: X does not have valid feature names, but SVC was fitted with feature names\n",
      "  warnings.warn(\n",
      "C:\\Users\\RAHUL M\\anaconda3\\lib\\site-packages\\sklearn\\base.py:450: UserWarning: X does not have valid feature names, but SVC was fitted with feature names\n",
      "  warnings.warn(\n",
      "C:\\Users\\RAHUL M\\anaconda3\\lib\\site-packages\\sklearn\\base.py:450: UserWarning: X does not have valid feature names, but SVC was fitted with feature names\n",
      "  warnings.warn(\n",
      "C:\\Users\\RAHUL M\\anaconda3\\lib\\site-packages\\sklearn\\base.py:450: UserWarning: X does not have valid feature names, but SVC was fitted with feature names\n",
      "  warnings.warn(\n",
      "C:\\Users\\RAHUL M\\anaconda3\\lib\\site-packages\\sklearn\\base.py:450: UserWarning: X does not have valid feature names, but SVC was fitted with feature names\n",
      "  warnings.warn(\n",
      "C:\\Users\\RAHUL M\\anaconda3\\lib\\site-packages\\sklearn\\base.py:450: UserWarning: X does not have valid feature names, but SVC was fitted with feature names\n",
      "  warnings.warn(\n"
     ]
    }
   ],
   "source": [
    "for t1,t2,t3,t4,t5,t6,t7 in zip(feature1,feature2,feature3,feature4,feature5,feature6,feature7):\n",
    "    \n",
    "    input_test_data = (t1,t2,t3,t4,t5,t6,t7)\n",
    "    input_data_array = np.asarray(input_test_data)\n",
    "    input_data_array_reshape=input_data_array.reshape(1,-1)\n",
    "    \n",
    "    prediction=svm.predict(input_data_array_reshape)\n",
    "    \n",
    "    if prediction==0:\n",
    "        emotion_result=\"neutral\"\n",
    "    elif prediction==1:\n",
    "        emotion_result=\"happy\"\n",
    "    elif prediction==-1:\n",
    "        emotion_result=\"sad\"\n",
    "    print(\"Test data \",input_test_data,\"\\nThe emotion is \",emotion_result)\n",
    "    print()\n"
   ]
  },
  {
   "cell_type": "markdown",
   "id": "6af57a3a",
   "metadata": {},
   "source": [
    "## k-nearest neighbour(knn) "
   ]
  },
  {
   "cell_type": "code",
   "execution_count": 27,
   "id": "03464463",
   "metadata": {},
   "outputs": [],
   "source": [
    "from sklearn.neighbors import KNeighborsClassifierhhhhhhhhhhhhhhhhhhhhhhhhhhhhhhhhhhhhh"
   ]
  },
  {
   "cell_type": "code",
   "execution_count": 28,
   "id": "cfb168b1",
   "metadata": {},
   "outputs": [],
   "source": [
    "X_train, X_test, y_train, y_test = train_test_split(X, y, test_size = 0.2, random_state=42) \n",
    "knn = KNeighborsClassifier(n_neighbors=7)"
   ]
  },
  {
   "cell_type": "code",
   "execution_count": 29,
   "id": "4d792ad3",
   "metadata": {},
   "outputs": [
    {
     "data": {
      "text/plain": [
       "KNeighborsClassifier(n_neighbors=7)"
      ]
     },
     "execution_count": 29,
     "metadata": {},
     "output_type": "execute_result"
    }
   ],
   "source": [
    "knn.fit(X_train, y_train)"
   ]
  },
  {
   "cell_type": "code",
   "execution_count": 30,
   "id": "7d00019d",
   "metadata": {},
   "outputs": [],
   "source": [
    "score_knn = knn.score(X_test, y_test)"
   ]
  },
  {
   "cell_type": "code",
   "execution_count": 31,
   "id": "0f05637e",
   "metadata": {
    "scrolled": false
   },
   "outputs": [
    {
     "name": "stdout",
     "output_type": "stream",
     "text": [
      "Test accuracy: 67.50%\n"
     ]
    }
   ],
   "source": [
    "score_knn = knn.score(X_test, y_test)\n",
    "print('Test accuracy: {:.2f}%'.format(score_knn * 100))"
   ]
  },
  {
   "cell_type": "code",
   "execution_count": 32,
   "id": "e123a3ce",
   "metadata": {},
   "outputs": [],
   "source": [
    "y_pred_knn=knn.predict(X_test)"
   ]
  },
  {
   "cell_type": "code",
   "execution_count": 33,
   "id": "e18d2dbf",
   "metadata": {
    "scrolled": true
   },
   "outputs": [
    {
     "name": "stdout",
     "output_type": "stream",
     "text": [
      "Confusion matrix:\n"
     ]
    },
    {
     "data": {
      "text/plain": [
       "array([[14,  0,  0],\n",
       "       [ 0,  8,  6],\n",
       "       [ 4,  3,  5]], dtype=int64)"
      ]
     },
     "execution_count": 33,
     "metadata": {},
     "output_type": "execute_result"
    }
   ],
   "source": [
    "conf_mat_knn = confusion_matrix(y_test, y_pred_knn)\n",
    "print('Confusion matrix:')\n",
    "conf_mat_knn"
   ]
  },
  {
   "cell_type": "code",
   "execution_count": 34,
   "id": "bb5648bd",
   "metadata": {},
   "outputs": [],
   "source": [
    "clr_knn = classification_report(y_test, y_pred_knn, target_names=label_mapping.keys())\n"
   ]
  },
  {
   "cell_type": "code",
   "execution_count": 35,
   "id": "536f8786",
   "metadata": {
    "scrolled": false
   },
   "outputs": [
    {
     "data": {
      "image/png": "[encoded data removed]",
      "text/plain": [
       "<Figure size 576x576 with 1 Axes>"
      ]
     },
     "metadata": {
      "needs_background": "light"
     },
     "output_type": "display_data"
    },
    {
     "name": "stdout",
     "output_type": "stream",
     "text": [
      "Classification Report:\n",
      "----------------------\n",
      "               precision    recall  f1-score   support\n",
      "\n",
      "    NEGATIVE       0.78      1.00      0.88        14\n",
      "     NEUTRAL       0.73      0.57      0.64        14\n",
      "    POSITIVE       0.45      0.42      0.43        12\n",
      "\n",
      "    accuracy                           0.68        40\n",
      "   macro avg       0.65      0.66      0.65        40\n",
      "weighted avg       0.66      0.68      0.66        40\n",
      "\n"
     ]
    }
   ],
   "source": [
    "plt.figure(figsize=(8, 8))\n",
    "sns.heatmap(conf_mat_knn, annot=True, vmin=0, fmt='g', cbar=False, cmap='Blues')\n",
    "\n",
    "plt.xticks(np.arange(3) + 0.5, label_mapping.keys())\n",
    "plt.yticks(np.arange(3) + 0.5, label_mapping.keys())\n",
    "plt.xlabel(\"Predicted\")\n",
    "plt.ylabel(\"Actual\")\n",
    "plt.title(\"Confusion Matrix\")\n",
    "plt.show()\n",
    "\n",
    "print(\"Classification Report:\\n----------------------\\n\", clr_knn)"
   ]
  },
  {
   "cell_type": "code",
   "execution_count": 36,
   "id": "65959efb",
   "metadata": {
    "scrolled": true
   },
   "outputs": [
    {
     "name": "stdout",
     "output_type": "stream",
     "text": [
      "Test data  (30.3, 7.8, -4310.0, 44200, 8.37, 4.98, 20600) \n",
      "The emotion is  sad\n",
      "\n",
      "Test data  (33.1, 3.55, -45.9, 1160, -2.9, 5.0, 4190) \n",
      "The emotion is  neutral\n",
      "\n",
      "Test data  (29.4, 4.12, -1800.0, 74600, 5.77, 5.0, 423000) \n",
      "The emotion is  sad\n",
      "\n",
      "Test data  (31.6, 2.99, -848.0, 45800, 5.71, 5.01, 114000) \n",
      "The emotion is  sad\n",
      "\n",
      "Test data  (31.3, 6.99, -74.4, 7320, -1.99, 4.99, 9420) \n",
      "The emotion is  happy\n",
      "\n",
      "Test data  (30.9, 3.59, -27.4, 1730, -10.7, 5.0, 2660) \n",
      "The emotion is  neutral\n",
      "\n",
      "Test data  (21.0, 3.55, 18.4, 2260, 1.68, 5.0, 3030) \n",
      "The emotion is  happy\n",
      "\n",
      "Test data  (27.8, 5.22, -674.0, 31100, 5.2, 4.99, 149000) \n",
      "The emotion is  happy\n",
      "\n",
      "Test data  (29.7, 4.73, -1.73, 1720, 1.6, 5.0, 4770) \n",
      "The emotion is  neutral\n",
      "\n",
      "Test data  (29.2, 3.93, -4120.0, 33900, 8.73, 5.0, 121000) \n",
      "The emotion is  sad\n",
      "\n",
      "Test data  (28.4, 4.07, -22.0, 841, -3.98, 5.0, 884) \n",
      "The emotion is  neutral\n",
      "\n",
      "Test data  (30.4, 4.02, -1070.0, 18800, 6.01, 5.0, -4080) \n",
      "The emotion is  happy\n",
      "\n",
      "Test data  (32.7, 3.07, 8.5, 851, 1.89, 5.01, 6030) \n",
      "The emotion is  neutral\n",
      "\n",
      "Test data  (31.7, 6.44, 121.0, 38600, 7.22, 4.99, 50000) \n",
      "The emotion is  sad\n",
      "\n",
      "Test data  (31.8, 3.12, -9.32, 891, 3.35, 5.01, 3650) \n",
      "The emotion is  neutral\n",
      "\n",
      "Test data  (23.8, 5.13, -1670.0, 45500, 1.98, 4.99, 104000) \n",
      "The emotion is  sad\n",
      "\n",
      "Test data  (34.9, 4.6, -120.0, 1760, 3.6, 5.0, 6540) \n",
      "The emotion is  neutral\n",
      "\n",
      "Test data  (30.8, 2.71, 23.5, 945, 1.97, 5.01, 5000) \n",
      "The emotion is  neutral\n",
      "\n",
      "Test data  (21.9, 4.16, -27000.0, 190000, 9.73, 4.99, 970000) \n",
      "The emotion is  sad\n",
      "\n",
      "Test data  (27.6, 7.98, -5460.0, 43000, 9.28, 4.97, 269000) \n",
      "The emotion is  sad\n",
      "\n"
     ]
    },
    {
     "name": "stderr",
     "output_type": "stream",
     "text": [
      "C:\\Users\\RAHUL M\\anaconda3\\lib\\site-packages\\sklearn\\base.py:450: UserWarning: X does not have valid feature names, but SVC was fitted with feature names\n",
      "  warnings.warn(\n",
      "C:\\Users\\RAHUL M\\anaconda3\\lib\\site-packages\\sklearn\\base.py:450: UserWarning: X does not have valid feature names, but SVC was fitted with feature names\n",
      "  warnings.warn(\n",
      "C:\\Users\\RAHUL M\\anaconda3\\lib\\site-packages\\sklearn\\base.py:450: UserWarning: X does not have valid feature names, but SVC was fitted with feature names\n",
      "  warnings.warn(\n",
      "C:\\Users\\RAHUL M\\anaconda3\\lib\\site-packages\\sklearn\\base.py:450: UserWarning: X does not have valid feature names, but SVC was fitted with feature names\n",
      "  warnings.warn(\n",
      "C:\\Users\\RAHUL M\\anaconda3\\lib\\site-packages\\sklearn\\base.py:450: UserWarning: X does not have valid feature names, but SVC was fitted with feature names\n",
      "  warnings.warn(\n",
      "C:\\Users\\RAHUL M\\anaconda3\\lib\\site-packages\\sklearn\\base.py:450: UserWarning: X does not have valid feature names, but SVC was fitted with feature names\n",
      "  warnings.warn(\n",
      "C:\\Users\\RAHUL M\\anaconda3\\lib\\site-packages\\sklearn\\base.py:450: UserWarning: X does not have valid feature names, but SVC was fitted with feature names\n",
      "  warnings.warn(\n",
      "C:\\Users\\RAHUL M\\anaconda3\\lib\\site-packages\\sklearn\\base.py:450: UserWarning: X does not have valid feature names, but SVC was fitted with feature names\n",
      "  warnings.warn(\n",
      "C:\\Users\\RAHUL M\\anaconda3\\lib\\site-packages\\sklearn\\base.py:450: UserWarning: X does not have valid feature names, but SVC was fitted with feature names\n",
      "  warnings.warn(\n",
      "C:\\Users\\RAHUL M\\anaconda3\\lib\\site-packages\\sklearn\\base.py:450: UserWarning: X does not have valid feature names, but SVC was fitted with feature names\n",
      "  warnings.warn(\n",
      "C:\\Users\\RAHUL M\\anaconda3\\lib\\site-packages\\sklearn\\base.py:450: UserWarning: X does not have valid feature names, but SVC was fitted with feature names\n",
      "  warnings.warn(\n",
      "C:\\Users\\RAHUL M\\anaconda3\\lib\\site-packages\\sklearn\\base.py:450: UserWarning: X does not have valid feature names, but SVC was fitted with feature names\n",
      "  warnings.warn(\n",
      "C:\\Users\\RAHUL M\\anaconda3\\lib\\site-packages\\sklearn\\base.py:450: UserWarning: X does not have valid feature names, but SVC was fitted with feature names\n",
      "  warnings.warn(\n",
      "C:\\Users\\RAHUL M\\anaconda3\\lib\\site-packages\\sklearn\\base.py:450: UserWarning: X does not have valid feature names, but SVC was fitted with feature names\n",
      "  warnings.warn(\n",
      "C:\\Users\\RAHUL M\\anaconda3\\lib\\site-packages\\sklearn\\base.py:450: UserWarning: X does not have valid feature names, but SVC was fitted with feature names\n",
      "  warnings.warn(\n",
      "C:\\Users\\RAHUL M\\anaconda3\\lib\\site-packages\\sklearn\\base.py:450: UserWarning: X does not have valid feature names, but SVC was fitted with feature names\n",
      "  warnings.warn(\n",
      "C:\\Users\\RAHUL M\\anaconda3\\lib\\site-packages\\sklearn\\base.py:450: UserWarning: X does not have valid feature names, but SVC was fitted with feature names\n",
      "  warnings.warn(\n",
      "C:\\Users\\RAHUL M\\anaconda3\\lib\\site-packages\\sklearn\\base.py:450: UserWarning: X does not have valid feature names, but SVC was fitted with feature names\n",
      "  warnings.warn(\n",
      "C:\\Users\\RAHUL M\\anaconda3\\lib\\site-packages\\sklearn\\base.py:450: UserWarning: X does not have valid feature names, but SVC was fitted with feature names\n",
      "  warnings.warn(\n",
      "C:\\Users\\RAHUL M\\anaconda3\\lib\\site-packages\\sklearn\\base.py:450: UserWarning: X does not have valid feature names, but SVC was fitted with feature names\n",
      "  warnings.warn(\n"
     ]
    }
   ],
   "source": [
    "for t1,t2,t3,t4,t5,t6,t7 in zip(feature1,feature2,feature3,feature4,feature5,feature6,feature7):\n",
    "    \n",
    "    input_test_data = (t1,t2,t3,t4,t5,t6,t7)\n",
    "    input_data_array = np.asarray(input_test_data)\n",
    "    input_data_array_reshape=input_data_array.reshape(1,-1)\n",
    "    \n",
    "    prediction=svm.predict(input_data_array_reshape)\n",
    "    \n",
    "    if prediction==0:\n",
    "        emotion_result=\"neutral\"\n",
    "    elif prediction==1:\n",
    "        emotion_result=\"happy\"\n",
    "    elif prediction==-1:\n",
    "        emotion_result=\"sad\"\n",
    "    print(\"Test data \",input_test_data,\"\\nThe emotion is \",emotion_result)\n",
    "    print()\n",
    "\n",
    "\n",
    "\n",
    "\n"
   ]
  },
  {
   "cell_type": "markdown",
   "id": "1a5fd41c",
   "metadata": {},
   "source": [
    "# #Decision Tree Classifier"
   ]
  },
  {
   "cell_type": "code",
   "execution_count": 37,
   "id": "44f20760",
   "metadata": {},
   "outputs": [],
   "source": [
    "from sklearn.tree import DecisionTreeClassifier\n",
    "from sklearn.metrics import accuracy_score"
   ]
  },
  {
   "cell_type": "code",
   "execution_count": 38,
   "id": "a1f36f89",
   "metadata": {},
   "outputs": [],
   "source": [
    "X_train, X_test, y_train, y_test = train_test_split(X, y, test_size=0.3, random_state=42)"
   ]
  },
  {
   "cell_type": "code",
   "execution_count": 39,
   "id": "5e1c8dbb",
   "metadata": {},
   "outputs": [
    {
     "data": {
      "text/plain": [
       "DecisionTreeClassifier(random_state=42)"
      ]
     },
     "execution_count": 39,
     "metadata": {},
     "output_type": "execute_result"
    }
   ],
   "source": [
    "clf_dt = DecisionTreeClassifier(random_state=42)\n",
    "clf_dt.fit(X_train, y_train)"
   ]
  },
  {
   "cell_type": "code",
   "execution_count": 40,
   "id": "f53f821d",
   "metadata": {},
   "outputs": [
    {
     "name": "stdout",
     "output_type": "stream",
     "text": [
      "Accuracy: 80.00%\n"
     ]
    }
   ],
   "source": [
    "y_pred_dt = clf_dt.predict(X_test)\n",
    "\n",
    "\n",
    "accuracy = accuracy_score(y_test, y_pred_dt)\n",
    "print(\"Accuracy: {:.2f}%\".format(accuracy * 100))"
   ]
  },
  {
   "cell_type": "code",
   "execution_count": 41,
   "id": "856bedc5",
   "metadata": {
    "scrolled": false
   },
   "outputs": [
    {
     "name": "stdout",
     "output_type": "stream",
     "text": [
      "Confusion matrix:\n"
     ]
    },
    {
     "data": {
      "text/plain": [
       "array([[19,  0,  3],\n",
       "       [ 0, 15,  4],\n",
       "       [ 1,  4, 14]], dtype=int64)"
      ]
     },
     "execution_count": 41,
     "metadata": {},
     "output_type": "execute_result"
    }
   ],
   "source": [
    "conf_mat_dt = confusion_matrix(y_test, y_pred_dt)\n",
    "print('Confusion matrix:')\n",
    "conf_mat_dt"
   ]
  },
  {
   "cell_type": "code",
   "execution_count": 42,
   "id": "34c02826",
   "metadata": {},
   "outputs": [],
   "source": [
    "clr_dt = classification_report(y_test, y_pred_dt, target_names=label_mapping.keys())\n"
   ]
  },
  {
   "cell_type": "code",
   "execution_count": 43,
   "id": "bb91e6e6",
   "metadata": {
    "scrolled": false
   },
   "outputs": [
    {
     "data": {
      "image/png": "[encoded data removed]",
      "text/plain": [
       "<Figure size 576x576 with 1 Axes>"
      ]
     },
     "metadata": {
      "needs_background": "light"
     },
     "output_type": "display_data"
    },
    {
     "name": "stdout",
     "output_type": "stream",
     "text": [
      "Classification Report:\n",
      "----------------------\n",
      "               precision    recall  f1-score   support\n",
      "\n",
      "    NEGATIVE       0.95      0.86      0.90        22\n",
      "     NEUTRAL       0.79      0.79      0.79        19\n",
      "    POSITIVE       0.67      0.74      0.70        19\n",
      "\n",
      "    accuracy                           0.80        60\n",
      "   macro avg       0.80      0.80      0.80        60\n",
      "weighted avg       0.81      0.80      0.80        60\n",
      "\n"
     ]
    }
   ],
   "source": [
    "plt.figure(figsize=(8, 8))\n",
    "sns.heatmap(conf_mat_dt, annot=True, vmin=0, fmt='g', cbar=False, cmap='Blues')\n",
    "\n",
    "plt.xticks(np.arange(3) + 0.5, label_mapping.keys())\n",
    "plt.yticks(np.arange(3) + 0.5, label_mapping.keys())\n",
    "plt.xlabel(\"Predicted\")\n",
    "plt.ylabel(\"Actual\")\n",
    "plt.title(\"Confusion Matrix\")\n",
    "plt.show()\n",
    "\n",
    "print(\"Classification Report:\\n----------------------\\n\", clr_dt)"
   ]
  },
  {
   "cell_type": "code",
   "execution_count": 44,
   "id": "0b0f13a5",
   "metadata": {
    "scrolled": false
   },
   "outputs": [
    {
     "name": "stdout",
     "output_type": "stream",
     "text": [
      "Test data  (30.3, 7.8, -4310.0, 44200, 8.37, 4.98, 20600) \n",
      "The emotion is  sad\n",
      "\n",
      "Test data  (33.1, 3.55, -45.9, 1160, -2.9, 5.0, 4190) \n",
      "The emotion is  neutral\n",
      "\n",
      "Test data  (29.4, 4.12, -1800.0, 74600, 5.77, 5.0, 423000) \n",
      "The emotion is  happy\n",
      "\n",
      "Test data  (31.6, 2.99, -848.0, 45800, 5.71, 5.01, 114000) \n",
      "The emotion is  happy\n",
      "\n",
      "Test data  (31.3, 6.99, -74.4, 7320, -1.99, 4.99, 9420) \n",
      "The emotion is  neutral\n",
      "\n",
      "Test data  (30.9, 3.59, -27.4, 1730, -10.7, 5.0, 2660) \n",
      "The emotion is  neutral\n",
      "\n",
      "Test data  (21.0, 3.55, 18.4, 2260, 1.68, 5.0, 3030) \n",
      "The emotion is  happy\n",
      "\n",
      "Test data  (27.8, 5.22, -674.0, 31100, 5.2, 4.99, 149000) \n",
      "The emotion is  sad\n",
      "\n",
      "Test data  (29.7, 4.73, -1.73, 1720, 1.6, 5.0, 4770) \n",
      "The emotion is  neutral\n",
      "\n",
      "Test data  (29.2, 3.93, -4120.0, 33900, 8.73, 5.0, 121000) \n",
      "The emotion is  sad\n",
      "\n",
      "Test data  (28.4, 4.07, -22.0, 841, -3.98, 5.0, 884) \n",
      "The emotion is  happy\n",
      "\n",
      "Test data  (30.4, 4.02, -1070.0, 18800, 6.01, 5.0, -4080) \n",
      "The emotion is  sad\n",
      "\n",
      "Test data  (32.7, 3.07, 8.5, 851, 1.89, 5.01, 6030) \n",
      "The emotion is  neutral\n",
      "\n",
      "Test data  (31.7, 6.44, 121.0, 38600, 7.22, 4.99, 50000) \n",
      "The emotion is  sad\n",
      "\n",
      "Test data  (31.8, 3.12, -9.32, 891, 3.35, 5.01, 3650) \n",
      "The emotion is  neutral\n",
      "\n",
      "Test data  (23.8, 5.13, -1670.0, 45500, 1.98, 4.99, 104000) \n",
      "The emotion is  sad\n",
      "\n",
      "Test data  (34.9, 4.6, -120.0, 1760, 3.6, 5.0, 6540) \n",
      "The emotion is  neutral\n",
      "\n",
      "Test data  (30.8, 2.71, 23.5, 945, 1.97, 5.01, 5000) \n",
      "The emotion is  neutral\n",
      "\n",
      "Test data  (21.9, 4.16, -27000.0, 190000, 9.73, 4.99, 970000) \n",
      "The emotion is  happy\n",
      "\n",
      "Test data  (27.6, 7.98, -5460.0, 43000, 9.28, 4.97, 269000) \n",
      "The emotion is  sad\n",
      "\n"
     ]
    },
    {
     "name": "stderr",
     "output_type": "stream",
     "text": [
      "C:\\Users\\RAHUL M\\anaconda3\\lib\\site-packages\\sklearn\\base.py:450: UserWarning: X does not have valid feature names, but DecisionTreeClassifier was fitted with feature names\n",
      "  warnings.warn(\n",
      "C:\\Users\\RAHUL M\\anaconda3\\lib\\site-packages\\sklearn\\base.py:450: UserWarning: X does not have valid feature names, but DecisionTreeClassifier was fitted with feature names\n",
      "  warnings.warn(\n",
      "C:\\Users\\RAHUL M\\anaconda3\\lib\\site-packages\\sklearn\\base.py:450: UserWarning: X does not have valid feature names, but DecisionTreeClassifier was fitted with feature names\n",
      "  warnings.warn(\n",
      "C:\\Users\\RAHUL M\\anaconda3\\lib\\site-packages\\sklearn\\base.py:450: UserWarning: X does not have valid feature names, but DecisionTreeClassifier was fitted with feature names\n",
      "  warnings.warn(\n",
      "C:\\Users\\RAHUL M\\anaconda3\\lib\\site-packages\\sklearn\\base.py:450: UserWarning: X does not have valid feature names, but DecisionTreeClassifier was fitted with feature names\n",
      "  warnings.warn(\n",
      "C:\\Users\\RAHUL M\\anaconda3\\lib\\site-packages\\sklearn\\base.py:450: UserWarning: X does not have valid feature names, but DecisionTreeClassifier was fitted with feature names\n",
      "  warnings.warn(\n",
      "C:\\Users\\RAHUL M\\anaconda3\\lib\\site-packages\\sklearn\\base.py:450: UserWarning: X does not have valid feature names, but DecisionTreeClassifier was fitted with feature names\n",
      "  warnings.warn(\n",
      "C:\\Users\\RAHUL M\\anaconda3\\lib\\site-packages\\sklearn\\base.py:450: UserWarning: X does not have valid feature names, but DecisionTreeClassifier was fitted with feature names\n",
      "  warnings.warn(\n",
      "C:\\Users\\RAHUL M\\anaconda3\\lib\\site-packages\\sklearn\\base.py:450: UserWarning: X does not have valid feature names, but DecisionTreeClassifier was fitted with feature names\n",
      "  warnings.warn(\n",
      "C:\\Users\\RAHUL M\\anaconda3\\lib\\site-packages\\sklearn\\base.py:450: UserWarning: X does not have valid feature names, but DecisionTreeClassifier was fitted with feature names\n",
      "  warnings.warn(\n",
      "C:\\Users\\RAHUL M\\anaconda3\\lib\\site-packages\\sklearn\\base.py:450: UserWarning: X does not have valid feature names, but DecisionTreeClassifier was fitted with feature names\n",
      "  warnings.warn(\n",
      "C:\\Users\\RAHUL M\\anaconda3\\lib\\site-packages\\sklearn\\base.py:450: UserWarning: X does not have valid feature names, but DecisionTreeClassifier was fitted with feature names\n",
      "  warnings.warn(\n",
      "C:\\Users\\RAHUL M\\anaconda3\\lib\\site-packages\\sklearn\\base.py:450: UserWarning: X does not have valid feature names, but DecisionTreeClassifier was fitted with feature names\n",
      "  warnings.warn(\n",
      "C:\\Users\\RAHUL M\\anaconda3\\lib\\site-packages\\sklearn\\base.py:450: UserWarning: X does not have valid feature names, but DecisionTreeClassifier was fitted with feature names\n",
      "  warnings.warn(\n",
      "C:\\Users\\RAHUL M\\anaconda3\\lib\\site-packages\\sklearn\\base.py:450: UserWarning: X does not have valid feature names, but DecisionTreeClassifier was fitted with feature names\n",
      "  warnings.warn(\n",
      "C:\\Users\\RAHUL M\\anaconda3\\lib\\site-packages\\sklearn\\base.py:450: UserWarning: X does not have valid feature names, but DecisionTreeClassifier was fitted with feature names\n",
      "  warnings.warn(\n",
      "C:\\Users\\RAHUL M\\anaconda3\\lib\\site-packages\\sklearn\\base.py:450: UserWarning: X does not have valid feature names, but DecisionTreeClassifier was fitted with feature names\n",
      "  warnings.warn(\n",
      "C:\\Users\\RAHUL M\\anaconda3\\lib\\site-packages\\sklearn\\base.py:450: UserWarning: X does not have valid feature names, but DecisionTreeClassifier was fitted with feature names\n",
      "  warnings.warn(\n",
      "C:\\Users\\RAHUL M\\anaconda3\\lib\\site-packages\\sklearn\\base.py:450: UserWarning: X does not have valid feature names, but DecisionTreeClassifier was fitted with feature names\n",
      "  warnings.warn(\n",
      "C:\\Users\\RAHUL M\\anaconda3\\lib\\site-packages\\sklearn\\base.py:450: UserWarning: X does not have valid feature names, but DecisionTreeClassifier was fitted with feature names\n",
      "  warnings.warn(\n"
     ]
    }
   ],
   "source": [
    "for t1,t2,t3,t4,t5,t6,t7 in zip(feature1,feature2,feature3,feature4,feature5,feature6,feature7):\n",
    "    \n",
    "    input_test_data = (t1,t2,t3,t4,t5,t6,t7)\n",
    "    input_data_array = np.asarray(input_test_data)\n",
    "    input_data_array_reshape=input_data_array.reshape(1,-1)\n",
    "    \n",
    "    prediction=clf_dt.predict(input_data_array_reshape)\n",
    "    \n",
    "    if prediction==0:\n",
    "        emotion_result=\"neutral\"\n",
    "    elif prediction==1:\n",
    "        emotion_result=\"happy\"\n",
    "    elif prediction==-1:\n",
    "        emotion_result=\"sad\"\n",
    "    print(\"Test data \",input_test_data,\"\\nThe emotion is \",emotion_result)\n",
    "    print()"
   ]
  },
  {
   "cell_type": "markdown",
   "id": "dd8aa256",
   "metadata": {},
   "source": [
    "## Random forest classification"
   ]
  },
  {
   "cell_type": "code",
   "execution_count": 45,
   "id": "145ad140",
   "metadata": {},
   "outputs": [],
   "source": [
    "from sklearn.ensemble import RandomForestClassifier"
   ]
  },
  {
   "cell_type": "code",
   "execution_count": 46,
   "id": "6954597c",
   "metadata": {},
   "outputs": [],
   "source": [
    "rfc = RandomForestClassifier(n_estimators=100)"
   ]
  },
  {
   "cell_type": "code",
   "execution_count": 47,
   "id": "ba79c70a",
   "metadata": {},
   "outputs": [
    {
     "data": {
      "text/plain": [
       "RandomForestClassifier()"
      ]
     },
     "execution_count": 47,
     "metadata": {},
     "output_type": "execute_result"
    }
   ],
   "source": [
    "rfc.fit(X_train, y_train)"
   ]
  },
  {
   "cell_type": "code",
   "execution_count": 48,
   "id": "e98f39f5",
   "metadata": {},
   "outputs": [],
   "source": [
    "y_pred_rfc = rfc.predict(X_test)"
   ]
  },
  {
   "cell_type": "code",
   "execution_count": 49,
   "id": "56c0674d",
   "metadata": {
    "scrolled": true
   },
   "outputs": [
    {
     "name": "stdout",
     "output_type": "stream",
     "text": [
      "Accuracy: 81.67%\n"
     ]
    }
   ],
   "source": [
    "accuracy = accuracy_score(y_test, y_pred_rfc)\n",
    "print(\"Accuracy: {:.2f}%\".format(accuracy * 100))"
   ]
  },
  {
   "cell_type": "code",
   "execution_count": 50,
   "id": "483ff6d4",
   "metadata": {},
   "outputs": [
    {
     "name": "stdout",
     "output_type": "stream",
     "text": [
      "Confusion matrix:\n"
     ]
    },
    {
     "data": {
      "text/plain": [
       "array([[19,  0,  3],\n",
       "       [ 0, 17,  2],\n",
       "       [ 3,  3, 13]], dtype=int64)"
      ]
     },
     "execution_count": 50,
     "metadata": {},
     "output_type": "execute_result"
    }
   ],
   "source": [
    "conf_mat_rfc = confusion_matrix(y_test, y_pred_rfc)\n",
    "print('Confusion matrix:')\n",
    "conf_mat_rfc"
   ]
  },
  {
   "cell_type": "code",
   "execution_count": 51,
   "id": "e4e1473d",
   "metadata": {},
   "outputs": [],
   "source": [
    "clr_rfc = classification_report(y_test, y_pred_rfc, target_names=label_mapping.keys())\n"
   ]
  },
  {
   "cell_type": "code",
   "execution_count": 52,
   "id": "bfb582f4",
   "metadata": {
    "scrolled": false
   },
   "outputs": [
    {
     "data": {
      "image/png": "[encoded data removed]",
      "text/plain": [
       "<Figure size 576x576 with 1 Axes>"
      ]
     },
     "metadata": {
      "needs_background": "light"
     },
     "output_type": "display_data"
    },
    {
     "name": "stdout",
     "output_type": "stream",
     "text": [
      "Classification Report:\n",
      "----------------------\n",
      "               precision    recall  f1-score   support\n",
      "\n",
      "    NEGATIVE       0.86      0.86      0.86        22\n",
      "     NEUTRAL       0.85      0.89      0.87        19\n",
      "    POSITIVE       0.72      0.68      0.70        19\n",
      "\n",
      "    accuracy                           0.82        60\n",
      "   macro avg       0.81      0.81      0.81        60\n",
      "weighted avg       0.81      0.82      0.82        60\n",
      "\n"
     ]
    }
   ],
   "source": [
    "plt.figure(figsize=(8, 8))\n",
    "sns.heatmap(conf_mat_rfc, annot=True, vmin=0, fmt='g', cbar=False, cmap='Blues')\n",
    "\n",
    "plt.xticks(np.arange(3) + 0.5, label_mapping.keys())\n",
    "plt.yticks(np.arange(3) + 0.5, label_mapping.keys())\n",
    "plt.xlabel(\"Predicted\")\n",
    "plt.ylabel(\"Actual\")\n",
    "plt.title(\"Confusion Matrix\")\n",
    "plt.show()\n",
    "\n",
    "print(\"Classification Report:\\n----------------------\\n\", clr_rfc)"
   ]
  },
  {
   "cell_type": "code",
   "execution_count": 53,
   "id": "0b90154a",
   "metadata": {},
   "outputs": [
    {
     "name": "stdout",
     "output_type": "stream",
     "text": [
      "Test data  (30.3, 7.8, -4310.0, 44200, 8.37, 4.98, 20600) \n",
      "The emotion is  sad\n",
      "\n",
      "Test data  (33.1, 3.55, -45.9, 1160, -2.9, 5.0, 4190) \n",
      "The emotion is  neutral\n",
      "\n",
      "Test data  (29.4, 4.12, -1800.0, 74600, 5.77, 5.0, 423000) \n",
      "The emotion is  happy\n",
      "\n",
      "Test data  (31.6, 2.99, -848.0, 45800, 5.71, 5.01, 114000) \n",
      "The emotion is  happy\n",
      "\n",
      "Test data  (31.3, 6.99, -74.4, 7320, -1.99, 4.99, 9420) \n",
      "The emotion is  neutral\n",
      "\n",
      "Test data  (30.9, 3.59, -27.4, 1730, -10.7, 5.0, 2660) \n",
      "The emotion is  happy\n",
      "\n",
      "Test data  (21.0, 3.55, 18.4, 2260, 1.68, 5.0, 3030) \n",
      "The emotion is  happy\n",
      "\n",
      "Test data  (27.8, 5.22, -674.0, 31100, 5.2, 4.99, 149000) \n",
      "The emotion is  sad\n",
      "\n",
      "Test data  (29.7, 4.73, -1.73, 1720, 1.6, 5.0, 4770) \n",
      "The emotion is  neutral\n",
      "\n",
      "Test data  (29.2, 3.93, -4120.0, 33900, 8.73, 5.0, 121000) \n",
      "The emotion is  happy\n",
      "\n",
      "Test data  (28.4, 4.07, -22.0, 841, -3.98, 5.0, 884) \n",
      "The emotion is  happy\n",
      "\n",
      "Test data  (30.4, 4.02, -1070.0, 18800, 6.01, 5.0, -4080) \n",
      "The emotion is  sad\n",
      "\n"
     ]
    },
    {
     "name": "stderr",
     "output_type": "stream",
     "text": [
      "C:\\Users\\RAHUL M\\anaconda3\\lib\\site-packages\\sklearn\\base.py:450: UserWarning: X does not have valid feature names, but RandomForestClassifier was fitted with feature names\n",
      "  warnings.warn(\n",
      "C:\\Users\\RAHUL M\\anaconda3\\lib\\site-packages\\sklearn\\base.py:450: UserWarning: X does not have valid feature names, but RandomForestClassifier was fitted with feature names\n",
      "  warnings.warn(\n",
      "C:\\Users\\RAHUL M\\anaconda3\\lib\\site-packages\\sklearn\\base.py:450: UserWarning: X does not have valid feature names, but RandomForestClassifier was fitted with feature names\n",
      "  warnings.warn(\n",
      "C:\\Users\\RAHUL M\\anaconda3\\lib\\site-packages\\sklearn\\base.py:450: UserWarning: X does not have valid feature names, but RandomForestClassifier was fitted with feature names\n",
      "  warnings.warn(\n",
      "C:\\Users\\RAHUL M\\anaconda3\\lib\\site-packages\\sklearn\\base.py:450: UserWarning: X does not have valid feature names, but RandomForestClassifier was fitted with feature names\n",
      "  warnings.warn(\n",
      "C:\\Users\\RAHUL M\\anaconda3\\lib\\site-packages\\sklearn\\base.py:450: UserWarning: X does not have valid feature names, but RandomForestClassifier was fitted with feature names\n",
      "  warnings.warn(\n",
      "C:\\Users\\RAHUL M\\anaconda3\\lib\\site-packages\\sklearn\\base.py:450: UserWarning: X does not have valid feature names, but RandomForestClassifier was fitted with feature names\n",
      "  warnings.warn(\n",
      "C:\\Users\\RAHUL M\\anaconda3\\lib\\site-packages\\sklearn\\base.py:450: UserWarning: X does not have valid feature names, but RandomForestClassifier was fitted with feature names\n",
      "  warnings.warn(\n",
      "C:\\Users\\RAHUL M\\anaconda3\\lib\\site-packages\\sklearn\\base.py:450: UserWarning: X does not have valid feature names, but RandomForestClassifier was fitted with feature names\n",
      "  warnings.warn(\n",
      "C:\\Users\\RAHUL M\\anaconda3\\lib\\site-packages\\sklearn\\base.py:450: UserWarning: X does not have valid feature names, but RandomForestClassifier was fitted with feature names\n",
      "  warnings.warn(\n",
      "C:\\Users\\RAHUL M\\anaconda3\\lib\\site-packages\\sklearn\\base.py:450: UserWarning: X does not have valid feature names, but RandomForestClassifier was fitted with feature names\n",
      "  warnings.warn(\n",
      "C:\\Users\\RAHUL M\\anaconda3\\lib\\site-packages\\sklearn\\base.py:450: UserWarning: X does not have valid feature names, but RandomForestClassifier was fitted with feature names\n",
      "  warnings.warn(\n",
      "C:\\Users\\RAHUL M\\anaconda3\\lib\\site-packages\\sklearn\\base.py:450: UserWarning: X does not have valid feature names, but RandomForestClassifier was fitted with feature names\n",
      "  warnings.warn(\n",
      "C:\\Users\\RAHUL M\\anaconda3\\lib\\site-packages\\sklearn\\base.py:450: UserWarning: X does not have valid feature names, but RandomForestClassifier was fitted with feature names\n",
      "  warnings.warn(\n",
      "C:\\Users\\RAHUL M\\anaconda3\\lib\\site-packages\\sklearn\\base.py:450: UserWarning: X does not have valid feature names, but RandomForestClassifier was fitted with feature names\n",
      "  warnings.warn(\n"
     ]
    },
    {
     "name": "stdout",
     "output_type": "stream",
     "text": [
      "Test data  (32.7, 3.07, 8.5, 851, 1.89, 5.01, 6030) \n",
      "The emotion is  neutral\n",
      "\n",
      "Test data  (31.7, 6.44, 121.0, 38600, 7.22, 4.99, 50000) \n",
      "The emotion is  sad\n",
      "\n",
      "Test data  (31.8, 3.12, -9.32, 891, 3.35, 5.01, 3650) \n",
      "The emotion is  neutral\n",
      "\n",
      "Test data  (23.8, 5.13, -1670.0, 45500, 1.98, 4.99, 104000) \n",
      "The emotion is  sad\n",
      "\n",
      "Test data  (34.9, 4.6, -120.0, 1760, 3.6, 5.0, 6540) \n",
      "The emotion is  neutral\n",
      "\n",
      "Test data  (30.8, 2.71, 23.5, 945, 1.97, 5.01, 5000) \n",
      "The emotion is  neutral\n",
      "\n",
      "Test data  (21.9, 4.16, -27000.0, 190000, 9.73, 4.99, 970000) \n",
      "The emotion is  sad\n",
      "\n",
      "Test data  (27.6, 7.98, -5460.0, 43000, 9.28, 4.97, 269000) \n",
      "The emotion is  sad\n",
      "\n"
     ]
    },
    {
     "name": "stderr",
     "output_type": "stream",
     "text": [
      "C:\\Users\\RAHUL M\\anaconda3\\lib\\site-packages\\sklearn\\base.py:450: UserWarning: X does not have valid feature names, but RandomForestClassifier was fitted with feature names\n",
      "  warnings.warn(\n",
      "C:\\Users\\RAHUL M\\anaconda3\\lib\\site-packages\\sklearn\\base.py:450: UserWarning: X does not have valid feature names, but RandomForestClassifier was fitted with feature names\n",
      "  warnings.warn(\n",
      "C:\\Users\\RAHUL M\\anaconda3\\lib\\site-packages\\sklearn\\base.py:450: UserWarning: X does not have valid feature names, but RandomForestClassifier was fitted with feature names\n",
      "  warnings.warn(\n",
      "C:\\Users\\RAHUL M\\anaconda3\\lib\\site-packages\\sklearn\\base.py:450: UserWarning: X does not have valid feature names, but RandomForestClassifier was fitted with feature names\n",
      "  warnings.warn(\n",
      "C:\\Users\\RAHUL M\\anaconda3\\lib\\site-packages\\sklearn\\base.py:450: UserWarning: X does not have valid feature names, but RandomForestClassifier was fitted with feature names\n",
      "  warnings.warn(\n"
     ]
    }
   ],
   "source": [
    "for t1,t2,t3,t4,t5,t6,t7 in zip(feature1,feature2,feature3,feature4,feature5,feature6,feature7):\n",
    "    \n",
    "    input_test_data = (t1,t2,t3,t4,t5,t6,t7)\n",
    "    input_data_array = np.asarray(input_test_data)\n",
    "    input_data_array_reshape=input_data_array.reshape(1,-1)\n",
    "    \n",
    "    prediction=rfc.predict(input_data_array_reshape)\n",
    "    \n",
    "    if prediction==0:\n",
    "        emotion_result=\"neutral\"\n",
    "    elif prediction==1:\n",
    "        emotion_result=\"happy\"\n",
    "    elif prediction==-1:\n",
    "        emotion_result=\"sad\"\n",
    "    print(\"Test data \",input_test_data,\"\\nThe emotion is \",emotion_result)\n",
    "    print()"
   ]
  }
 ],
 "metadata": {
  "kernelspec": {
   "display_name": "Python 3 (ipykernel)",
   "language": "python",
   "name": "python3"
  },
  "language_info": {
   "codemirror_mode": {
    "name": "ipython",
    "version": 3
   },
   "file_extension": ".py",
   "mimetype": "text/x-python",
   "name": "python",
   "nbconvert_exporter": "python",
   "pygments_lexer": "ipython3",
   "version": "3.9.12"
  }
 },
 "nbformat": 4,
 "nbformat_minor": 5
}
